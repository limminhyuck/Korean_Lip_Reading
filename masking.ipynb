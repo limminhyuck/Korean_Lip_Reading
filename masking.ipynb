{
 "cells": [
  {
   "cell_type": "code",
   "execution_count": 1,
   "id": "c5c3580a",
   "metadata": {},
   "outputs": [],
   "source": [
    "import dlib\n",
    "import cv2\n",
    "import numpy as np\n",
    "import time"
   ]
  },
  {
   "cell_type": "code",
   "execution_count": 9,
   "id": "1ccd9173",
   "metadata": {},
   "outputs": [],
   "source": [
    "sent = '친구'"
   ]
  },
  {
   "cell_type": "code",
   "execution_count": 3,
   "id": "e6abbf51",
   "metadata": {},
   "outputs": [],
   "source": [
    "cap = cv2.VideoCapture(0)\n",
    "\n",
    "detector = dlib.get_frontal_face_detector()\n",
    "predictor = dlib.shape_predictor(\"data/shape_predictor_68_face_landmarks.dat\")\n",
    "\n",
    "while True:\n",
    "    _, frame = cap.read()\n",
    "    gray = cv2.cvtColor(frame, cv2.COLOR_BGR2GRAY)\n",
    "\n",
    "    faces = detector(gray)\n",
    "    for face in faces:\n",
    "        landmarks = predictor(gray, face)\n",
    "\n",
    "        lips_points = [(landmarks.part(n).x, landmarks.part(n).y) for n in range(48, 60)]\n",
    "\n",
    "        lips_contour = np.array(lips_points, np.int32)\n",
    "\n",
    "        x, y, w, h = cv2.boundingRect(lips_contour)\n",
    "        roi = frame[y:y+h, x:x+w]\n",
    "        blurred_roi = cv2.GaussianBlur(roi, (99, 99), 0)\n",
    "        frame[y:y+h, x:x+w] = blurred_roi\n",
    "\n",
    "    cv2.imshow(\"Masked Lips\", frame)\n",
    "    key = cv2.waitKey(1)\n",
    "    if key == ord('q') or key == 27:\n",
    "        break\n",
    "\n",
    "cap.release()\n",
    "cv2.destroyAllWindows()"
   ]
  },
  {
   "cell_type": "code",
   "execution_count": 13,
   "id": "d554ff3e",
   "metadata": {},
   "outputs": [],
   "source": [
    "cap = cv2.VideoCapture(0)\n",
    "\n",
    "detector = dlib.get_frontal_face_detector()\n",
    "predictor = dlib.shape_predictor(\"data/shape_predictor_68_face_landmarks.dat\")\n",
    "\n",
    "mask_interval = 5  # mask 간격\n",
    "mask_duration = 1.5  # mask 유지시간\n",
    "last_mask_time = time.time()  \n",
    "\n",
    "while True:\n",
    "    _, frame = cap.read()\n",
    "    gray = cv2.cvtColor(frame, cv2.COLOR_BGR2GRAY)\n",
    "\n",
    "    faces = detector(gray)\n",
    "    for face in faces:\n",
    "        landmarks = predictor(gray, face)\n",
    "\n",
    "        lips_points = [(landmarks.part(n).x, landmarks.part(n).y) for n in range(48, 60)]\n",
    "\n",
    "        lips_contour = np.array(lips_points, np.int32)\n",
    "\n",
    "        if time.time() - last_mask_time >= mask_interval:\n",
    "            last_mask_time = time.time()\n",
    "\n",
    "            x, y, w, h = cv2.boundingRect(lips_contour)\n",
    "            roi = frame[y:y+h, x:x+w]\n",
    "            blurred_roi = cv2.GaussianBlur(roi, (99, 99), 0)\n",
    "            frame[y:y+h, x:x+w] = blurred_roi\n",
    "\n",
    "            mask_end_time = time.time() + mask_duration\n",
    "            while time.time() < mask_end_time:\n",
    "                cv2.imshow(\"Masked Lips\", frame)\n",
    "                cv2.waitKey(1)\n",
    "        else:\n",
    "            cv2.imshow(\"Masked Lips\", frame)\n",
    "\n",
    "    key = cv2.waitKey(1)\n",
    "    if key == ord('q') or key == 27:\n",
    "        break\n",
    "\n",
    "cap.release()\n",
    "cv2.destroyAllWindows()\n"
   ]
  },
  {
   "cell_type": "code",
   "execution_count": 4,
   "id": "cea00f34",
   "metadata": {},
   "outputs": [],
   "source": [
    "cap = cv2.VideoCapture(0)\n",
    "\n",
    "detector = dlib.get_frontal_face_detector()\n",
    "predictor = dlib.shape_predictor(\"data/shape_predictor_68_face_landmarks.dat\")\n",
    "\n",
    "mask_interval = 4  \n",
    "mask_duration = 1.5\n",
    "last_mask_time = time.time()  \n",
    "\n",
    "while True:\n",
    "    _, frame = cap.read()\n",
    "    gray = cv2.cvtColor(frame, cv2.COLOR_BGR2GRAY)\n",
    "\n",
    "    faces = detector(gray)\n",
    "    for face in faces:\n",
    "        landmarks = predictor(gray, face)\n",
    "\n",
    "        lips_points = [(landmarks.part(n).x, landmarks.part(n).y) for n in range(48, 67)]\n",
    "\n",
    "        for point in lips_points:\n",
    "            x, y = point\n",
    "            cv2.circle(frame, (x, y), 2, (0, 0, 255), -1)\n",
    "\n",
    "        if time.time() - last_mask_time >= mask_interval:\n",
    "            last_mask_time = time.time()\n",
    "\n",
    "            x, y, w, h = cv2.boundingRect(np.array(lips_points, np.int32))\n",
    "            roi = frame[y:y+h, x:x+w]\n",
    "            blurred_roi = cv2.GaussianBlur(roi, (99, 99), 0)\n",
    "            frame[y:y+h, x:x+w] = blurred_roi\n",
    "\n",
    "            mask_end_time = time.time() + mask_duration\n",
    "            while time.time() < mask_end_time:\n",
    "                cv2.imshow(\"Masked Lips\", frame)\n",
    "                cv2.waitKey(1)\n",
    "        else:\n",
    "            cv2.imshow(\"Masked Lips\", frame)\n",
    "\n",
    "    key = cv2.waitKey(1)\n",
    "    if key == ord('q') or key == 27:\n",
    "        break\n",
    "\n",
    "cap.release()\n",
    "cv2.destroyAllWindows()"
   ]
  },
  {
   "cell_type": "code",
   "execution_count": 6,
   "id": "1d2d4c2f",
   "metadata": {},
   "outputs": [],
   "source": [
    "cap = cv2.VideoCapture(0)\n",
    "\n",
    "detector = dlib.get_frontal_face_detector()\n",
    "predictor = dlib.shape_predictor(\"data/shape_predictor_68_face_landmarks.dat\")\n",
    "\n",
    "mask_interval = 4  \n",
    "mask_duration = 1.5\n",
    "last_mask_time = time.time()  \n",
    "\n",
    "\n",
    "while True:\n",
    "    _, frame = cap.read()\n",
    "    gray = cv2.cvtColor(frame, cv2.COLOR_BGR2GRAY)\n",
    "\n",
    "    faces = detector(gray)\n",
    "    for face in faces:\n",
    "        landmarks = predictor(gray, face)\n",
    "\n",
    "        lips_points = [(landmarks.part(n).x, landmarks.part(n).y) for n in range(48, 67)]\n",
    "\n",
    "        for point in lips_points:\n",
    "            x, y = point\n",
    "            cv2.circle(frame, (x, y), 2, (0, 0, 255), -1)\n",
    "\n",
    "        if time.time() - last_mask_time >= mask_interval:\n",
    "            last_mask_time = time.time()\n",
    "\n",
    "            x, y, w, h = cv2.boundingRect(np.array(lips_points, np.int32))\n",
    "            roi = frame[y:y+h, x:x+w]\n",
    "            blurred_roi = cv2.GaussianBlur(roi, (99, 99), 0)\n",
    "            frame[y:y+h, x:x+w] = blurred_roi\n",
    "\n",
    "            mask_end_time = time.time() + mask_duration\n",
    "            while time.time() < mask_end_time:\n",
    "                cv2.imshow(\"Masked Lips\", frame)\n",
    "                cv2.waitKey(1)\n",
    "        else:\n",
    "            cv2.imshow(\"Masked Lips\", frame)\n",
    "\n",
    "    key = cv2.waitKey(1)\n",
    "    if key == ord('q') or key == 27:\n",
    "        break\n",
    "\n",
    "cap.release()\n",
    "cv2.destroyAllWindows()"
   ]
  },
  {
   "cell_type": "code",
   "execution_count": 8,
   "id": "39e01054",
   "metadata": {},
   "outputs": [
    {
     "name": "stdout",
     "output_type": "stream",
     "text": [
      "tf.Tensor([[0.29890463 0.43694827 0.26414707 ]], shape=(), dtype=int64)\n"
     ]
    }
   ],
   "source": [
    "print(answer)"
   ]
  },
  {
   "cell_type": "code",
   "execution_count": 10,
   "id": "178b6ac9",
   "metadata": {},
   "outputs": [
    {
     "name": "stdout",
     "output_type": "stream",
     "text": [
      "친구\n"
     ]
    }
   ],
   "source": [
    "sent = words[np.argmax(answer)]\n",
    "print(sent)"
   ]
  },
  {
   "cell_type": "code",
   "execution_count": null,
   "id": "df1ae010",
   "metadata": {},
   "outputs": [],
   "source": []
  }
 ],
 "metadata": {
  "kernelspec": {
   "display_name": "Python 3 (ipykernel)",
   "language": "python",
   "name": "python3"
  },
  "language_info": {
   "codemirror_mode": {
    "name": "ipython",
    "version": 3
   },
   "file_extension": ".py",
   "mimetype": "text/x-python",
   "name": "python",
   "nbconvert_exporter": "python",
   "pygments_lexer": "ipython3",
   "version": "3.9.16"
  }
 },
 "nbformat": 4,
 "nbformat_minor": 5
}
