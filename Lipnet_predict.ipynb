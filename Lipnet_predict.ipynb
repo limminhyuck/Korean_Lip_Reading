{
 "cells": [
  {
   "cell_type": "code",
   "execution_count": 17,
   "id": "2a23222d",
   "metadata": {},
   "outputs": [
    {
     "name": "stdout",
     "output_type": "stream",
     "text": [
      "Collecting tensorflow\n",
      "  Using cached tensorflow-2.12.0-cp39-cp39-win_amd64.whl (1.9 kB)\n",
      "Collecting tensorflow-intel==2.12.0\n",
      "  Using cached tensorflow_intel-2.12.0-cp39-cp39-win_amd64.whl (272.8 MB)\n",
      "Requirement already satisfied: numpy<1.24,>=1.22 in c:\\users\\msi\\anaconda3\\lib\\site-packages (from tensorflow-intel==2.12.0->tensorflow) (1.23.5)\n",
      "Requirement already satisfied: libclang>=13.0.0 in c:\\users\\msi\\anaconda3\\lib\\site-packages (from tensorflow-intel==2.12.0->tensorflow) (14.0.1)\n",
      "Requirement already satisfied: h5py>=2.9.0 in c:\\users\\msi\\anaconda3\\lib\\site-packages (from tensorflow-intel==2.12.0->tensorflow) (3.7.0)\n",
      "Requirement already satisfied: setuptools in c:\\users\\msi\\anaconda3\\lib\\site-packages (from tensorflow-intel==2.12.0->tensorflow) (65.6.3)\n",
      "Requirement already satisfied: gast<=0.4.0,>=0.2.1 in c:\\users\\msi\\anaconda3\\lib\\site-packages (from tensorflow-intel==2.12.0->tensorflow) (0.4.0)\n",
      "Requirement already satisfied: astunparse>=1.6.0 in c:\\users\\msi\\anaconda3\\lib\\site-packages (from tensorflow-intel==2.12.0->tensorflow) (1.6.3)\n",
      "Requirement already satisfied: opt-einsum>=2.3.2 in c:\\users\\msi\\anaconda3\\lib\\site-packages (from tensorflow-intel==2.12.0->tensorflow) (3.3.0)\n",
      "Collecting tensorboard<2.13,>=2.12\n",
      "  Using cached tensorboard-2.12.3-py3-none-any.whl (5.6 MB)\n",
      "Requirement already satisfied: flatbuffers>=2.0 in c:\\users\\msi\\anaconda3\\lib\\site-packages (from tensorflow-intel==2.12.0->tensorflow) (23.3.3)\n",
      "Requirement already satisfied: tensorflow-io-gcs-filesystem>=0.23.1 in c:\\users\\msi\\anaconda3\\lib\\site-packages (from tensorflow-intel==2.12.0->tensorflow) (0.26.0)\n",
      "Requirement already satisfied: jax>=0.3.15 in c:\\users\\msi\\anaconda3\\lib\\site-packages (from tensorflow-intel==2.12.0->tensorflow) (0.4.8)\n",
      "Requirement already satisfied: packaging in c:\\users\\msi\\anaconda3\\lib\\site-packages (from tensorflow-intel==2.12.0->tensorflow) (22.0)\n",
      "Requirement already satisfied: absl-py>=1.0.0 in c:\\users\\msi\\anaconda3\\lib\\site-packages (from tensorflow-intel==2.12.0->tensorflow) (1.0.0)\n",
      "Requirement already satisfied: google-pasta>=0.1.1 in c:\\users\\msi\\anaconda3\\lib\\site-packages (from tensorflow-intel==2.12.0->tensorflow) (0.2.0)\n",
      "Requirement already satisfied: six>=1.12.0 in c:\\users\\msi\\anaconda3\\lib\\site-packages (from tensorflow-intel==2.12.0->tensorflow) (1.16.0)\n",
      "Requirement already satisfied: tensorflow-estimator<2.13,>=2.12.0 in c:\\users\\msi\\anaconda3\\lib\\site-packages (from tensorflow-intel==2.12.0->tensorflow) (2.12.0)\n",
      "Requirement already satisfied: wrapt<1.15,>=1.11.0 in c:\\users\\msi\\anaconda3\\lib\\site-packages (from tensorflow-intel==2.12.0->tensorflow) (1.14.1)\n",
      "Requirement already satisfied: grpcio<2.0,>=1.24.3 in c:\\users\\msi\\anaconda3\\lib\\site-packages (from tensorflow-intel==2.12.0->tensorflow) (1.54.0)\n",
      "Requirement already satisfied: protobuf!=4.21.0,!=4.21.1,!=4.21.2,!=4.21.3,!=4.21.4,!=4.21.5,<5.0.0dev,>=3.20.3 in c:\\users\\msi\\anaconda3\\lib\\site-packages (from tensorflow-intel==2.12.0->tensorflow) (4.22.4)\n",
      "Requirement already satisfied: typing-extensions>=3.6.6 in c:\\users\\msi\\anaconda3\\lib\\site-packages (from tensorflow-intel==2.12.0->tensorflow) (4.4.0)\n",
      "Requirement already satisfied: keras<2.13,>=2.12.0 in c:\\users\\msi\\anaconda3\\lib\\site-packages (from tensorflow-intel==2.12.0->tensorflow) (2.12.0)\n",
      "Requirement already satisfied: termcolor>=1.1.0 in c:\\users\\msi\\anaconda3\\lib\\site-packages (from tensorflow-intel==2.12.0->tensorflow) (1.1.0)\n",
      "Requirement already satisfied: wheel<1.0,>=0.23.0 in c:\\users\\msi\\anaconda3\\lib\\site-packages (from astunparse>=1.6.0->tensorflow-intel==2.12.0->tensorflow) (0.38.4)\n",
      "Requirement already satisfied: ml-dtypes>=0.0.3 in c:\\users\\msi\\anaconda3\\lib\\site-packages (from jax>=0.3.15->tensorflow-intel==2.12.0->tensorflow) (0.1.0)\n",
      "Requirement already satisfied: scipy>=1.7 in c:\\users\\msi\\anaconda3\\lib\\site-packages (from jax>=0.3.15->tensorflow-intel==2.12.0->tensorflow) (1.10.0)\n",
      "Requirement already satisfied: werkzeug>=1.0.1 in c:\\users\\msi\\anaconda3\\lib\\site-packages (from tensorboard<2.13,>=2.12->tensorflow-intel==2.12.0->tensorflow) (2.2.2)\n",
      "Requirement already satisfied: google-auth-oauthlib<1.1,>=0.5 in c:\\users\\msi\\anaconda3\\lib\\site-packages (from tensorboard<2.13,>=2.12->tensorflow-intel==2.12.0->tensorflow) (1.0.0)\n",
      "Requirement already satisfied: google-auth<3,>=1.6.3 in c:\\users\\msi\\anaconda3\\lib\\site-packages (from tensorboard<2.13,>=2.12->tensorflow-intel==2.12.0->tensorflow) (2.17.3)\n",
      "Requirement already satisfied: requests<3,>=2.21.0 in c:\\users\\msi\\anaconda3\\lib\\site-packages (from tensorboard<2.13,>=2.12->tensorflow-intel==2.12.0->tensorflow) (2.28.1)\n",
      "Requirement already satisfied: markdown>=2.6.8 in c:\\users\\msi\\anaconda3\\lib\\site-packages (from tensorboard<2.13,>=2.12->tensorflow-intel==2.12.0->tensorflow) (3.4.1)\n",
      "Requirement already satisfied: tensorboard-data-server<0.8.0,>=0.7.0 in c:\\users\\msi\\anaconda3\\lib\\site-packages (from tensorboard<2.13,>=2.12->tensorflow-intel==2.12.0->tensorflow) (0.7.0)\n",
      "Requirement already satisfied: pyasn1-modules>=0.2.1 in c:\\users\\msi\\anaconda3\\lib\\site-packages (from google-auth<3,>=1.6.3->tensorboard<2.13,>=2.12->tensorflow-intel==2.12.0->tensorflow) (0.2.8)\n",
      "Requirement already satisfied: cachetools<6.0,>=2.0.0 in c:\\users\\msi\\anaconda3\\lib\\site-packages (from google-auth<3,>=1.6.3->tensorboard<2.13,>=2.12->tensorflow-intel==2.12.0->tensorflow) (5.2.0)\n",
      "Requirement already satisfied: rsa<5,>=3.1.4 in c:\\users\\msi\\anaconda3\\lib\\site-packages (from google-auth<3,>=1.6.3->tensorboard<2.13,>=2.12->tensorflow-intel==2.12.0->tensorflow) (4.8)\n",
      "Requirement already satisfied: requests-oauthlib>=0.7.0 in c:\\users\\msi\\anaconda3\\lib\\site-packages (from google-auth-oauthlib<1.1,>=0.5->tensorboard<2.13,>=2.12->tensorflow-intel==2.12.0->tensorflow) (1.3.1)\n",
      "Requirement already satisfied: importlib-metadata>=4.4 in c:\\users\\msi\\anaconda3\\lib\\site-packages (from markdown>=2.6.8->tensorboard<2.13,>=2.12->tensorflow-intel==2.12.0->tensorflow) (4.11.3)\n",
      "Requirement already satisfied: idna<4,>=2.5 in c:\\users\\msi\\anaconda3\\lib\\site-packages (from requests<3,>=2.21.0->tensorboard<2.13,>=2.12->tensorflow-intel==2.12.0->tensorflow) (3.4)\n",
      "Requirement already satisfied: urllib3<1.27,>=1.21.1 in c:\\users\\msi\\anaconda3\\lib\\site-packages (from requests<3,>=2.21.0->tensorboard<2.13,>=2.12->tensorflow-intel==2.12.0->tensorflow) (1.26.14)\n",
      "Requirement already satisfied: certifi>=2017.4.17 in c:\\users\\msi\\anaconda3\\lib\\site-packages (from requests<3,>=2.21.0->tensorboard<2.13,>=2.12->tensorflow-intel==2.12.0->tensorflow) (2022.12.7)\n",
      "Requirement already satisfied: charset-normalizer<3,>=2 in c:\\users\\msi\\anaconda3\\lib\\site-packages (from requests<3,>=2.21.0->tensorboard<2.13,>=2.12->tensorflow-intel==2.12.0->tensorflow) (2.0.4)\n",
      "Requirement already satisfied: MarkupSafe>=2.1.1 in c:\\users\\msi\\anaconda3\\lib\\site-packages (from werkzeug>=1.0.1->tensorboard<2.13,>=2.12->tensorflow-intel==2.12.0->tensorflow) (2.1.1)\n",
      "Requirement already satisfied: zipp>=0.5 in c:\\users\\msi\\anaconda3\\lib\\site-packages (from importlib-metadata>=4.4->markdown>=2.6.8->tensorboard<2.13,>=2.12->tensorflow-intel==2.12.0->tensorflow) (3.11.0)\n",
      "Requirement already satisfied: pyasn1<0.5.0,>=0.4.6 in c:\\users\\msi\\anaconda3\\lib\\site-packages (from pyasn1-modules>=0.2.1->google-auth<3,>=1.6.3->tensorboard<2.13,>=2.12->tensorflow-intel==2.12.0->tensorflow) (0.4.8)\n",
      "Requirement already satisfied: oauthlib>=3.0.0 in c:\\users\\msi\\anaconda3\\lib\\site-packages (from requests-oauthlib>=0.7.0->google-auth-oauthlib<1.1,>=0.5->tensorboard<2.13,>=2.12->tensorflow-intel==2.12.0->tensorflow) (3.2.0)\n",
      "Installing collected packages: tensorboard, tensorflow-intel, tensorflow\n",
      "  Attempting uninstall: tensorboard\n",
      "    Found existing installation: tensorboard 2.13.0\n",
      "    Uninstalling tensorboard-2.13.0:\n",
      "      Successfully uninstalled tensorboard-2.13.0\n"
     ]
    },
    {
     "name": "stderr",
     "output_type": "stream",
     "text": [
      "WARNING: Ignoring invalid distribution -rotobuf (c:\\users\\msi\\anaconda3\\lib\\site-packages)\n",
      "WARNING: Ignoring invalid distribution -pencv-python (c:\\users\\msi\\anaconda3\\lib\\site-packages)\n",
      "WARNING: Ignoring invalid distribution -rotobuf (c:\\users\\msi\\anaconda3\\lib\\site-packages)\n",
      "WARNING: Ignoring invalid distribution -pencv-python (c:\\users\\msi\\anaconda3\\lib\\site-packages)\n",
      "WARNING: Ignoring invalid distribution -rotobuf (c:\\users\\msi\\anaconda3\\lib\\site-packages)\n",
      "WARNING: Ignoring invalid distribution -pencv-python (c:\\users\\msi\\anaconda3\\lib\\site-packages)\n",
      "    WARNING: Ignoring invalid distribution -rotobuf (c:\\users\\msi\\anaconda3\\lib\\site-packages)\n",
      "    WARNING: Ignoring invalid distribution -pencv-python (c:\\users\\msi\\anaconda3\\lib\\site-packages)\n",
      "ERROR: Could not install packages due to an OSError: [WinError 5] 액세스가 거부되었습니다: 'C:\\\\Users\\\\MSI\\\\anaconda3\\\\Lib\\\\site-packages\\\\tensorflow\\\\python\\\\_pywrap_tensorflow_internal.pyd'\n",
      "Consider using the `--user` option or check the permissions.\n",
      "\n",
      "WARNING: Ignoring invalid distribution -rotobuf (c:\\users\\msi\\anaconda3\\lib\\site-packages)\n",
      "WARNING: Ignoring invalid distribution -pencv-python (c:\\users\\msi\\anaconda3\\lib\\site-packages)\n",
      "WARNING: Ignoring invalid distribution -rotobuf (c:\\users\\msi\\anaconda3\\lib\\site-packages)\n",
      "WARNING: Ignoring invalid distribution -pencv-python (c:\\users\\msi\\anaconda3\\lib\\site-packages)\n",
      "WARNING: Ignoring invalid distribution -rotobuf (c:\\users\\msi\\anaconda3\\lib\\site-packages)\n",
      "WARNING: Ignoring invalid distribution -pencv-python (c:\\users\\msi\\anaconda3\\lib\\site-packages)\n"
     ]
    }
   ],
   "source": [
    "# pip install --upgrade protobuf\n",
    "# protoc --python_out=. your_proto_file.proto\n",
    "# pip install protobuf==3.20\n",
    "# !pip install --upgrade tensorflow\n",
    "!pip install tensorflow\n"
   ]
  },
  {
   "cell_type": "code",
   "execution_count": 10,
   "id": "646153a4",
   "metadata": {},
   "outputs": [
    {
     "name": "stdout",
     "output_type": "stream",
     "text": [
      "3.9.16 (main, Mar  1 2023, 18:30:21) [MSC v.1916 64 bit (AMD64)]\n"
     ]
    }
   ],
   "source": [
    "import sys\n",
    "print(sys.version)"
   ]
  },
  {
   "cell_type": "code",
   "execution_count": 11,
   "id": "a650e5d6",
   "metadata": {},
   "outputs": [],
   "source": [
    "from keras.layers.convolutional import Conv3D, ZeroPadding3D\n",
    "from keras.layers.pooling import MaxPooling3D\n",
    "from keras.layers.core import Dense, Activation, Dropout, Flatten, SpatialDropout3D\n",
    "from keras.layers import Bidirectional, TimeDistributed\n",
    "from keras.layers import BatchNormalization\n",
    "#from keras.layers.recurrent import GRU\n",
    "from keras.layers import GRU\n",
    "from keras.layers import Input\n",
    "from keras.models import Model\n",
    "from keras import backend as K\n",
    "from keras.layers.core import Lambda\n",
    "from keras import backend as K\n",
    "import tensorflow as tf"
   ]
  },
  {
   "cell_type": "code",
   "execution_count": 12,
   "id": "8f2ad02c",
   "metadata": {},
   "outputs": [],
   "source": [
    "from keras.layers.core import Lambda\n",
    "from keras import backend as K\n",
    "\n",
    "# Actual loss calculation\n",
    "def ctc_lambda_func(args):\n",
    "    y_pred, labels, input_length, label_length = args\n",
    "    # From Keras example image_ocr.py:\n",
    "    # the 2 is critical here since the first couple outputs of the RNN\n",
    "    # tend to be garbage:\n",
    "    # y_pred = y_pred[:, 2:, :]\n",
    "    y_pred = y_pred[:, :, :]\n",
    "    return K.ctc_batch_cost(labels, y_pred, input_length, label_length)\n",
    "\n",
    "def CTC(name, args):\n",
    "    return Lambda(ctc_lambda_func, output_shape=(1,), name=name)(args)"
   ]
  },
  {
   "cell_type": "code",
   "execution_count": 13,
   "id": "365510e4",
   "metadata": {},
   "outputs": [
    {
     "name": "stdout",
     "output_type": "stream",
     "text": [
      "(None, 5, 100, 200, 3)\n",
      "(None, 7, 104, 204, 3)\n",
      "(None, 5, 50, 100, 32)\n",
      "(None, 5, 25, 50, 32)\n",
      "(None, 5, 25, 50, 32)\n",
      "=====================================================\n",
      "(None, 7, 29, 54, 32)\n",
      "(None, 5, 25, 50, 64)\n",
      "(None, 5, 12, 25, 64)\n",
      "(None, 5, 12, 25, 64)\n",
      "=====================================================\n",
      "(None, 7, 14, 27, 64)\n",
      "(None, 5, 12, 25, 96)\n",
      "(None, 5, 6, 12, 96)\n",
      "(None, 5, 6, 12, 96)\n",
      "=====================================================\n",
      "(None, 5, 6912)\n",
      "=====================================================\n",
      "(None, 5, 512)\n",
      "(None, 512)\n",
      "=====================================================\n",
      "(None, 13)\n",
      "=====================================================\n",
      "(None, 13)\n"
     ]
    }
   ],
   "source": [
    "input_shape = (5, 100, 200, 3)\n",
    "output_size = 13\n",
    "x = Input(name = 'the_input', shape = input_shape, dtype = 'float32')\n",
    "print(x.shape)\n",
    "x = ZeroPadding3D(padding = (1,2,2), name = 'zero1')(x)\n",
    "print(x.shape)\n",
    "x = Conv3D(32, (3,5,5), strides = (1,2,2), activation = 'relu', kernel_initializer = 'he_normal', name = 'conv1')(x)\n",
    "print(x.shape)\n",
    "x = MaxPooling3D(pool_size=(1, 2, 2), strides=(1, 2, 2), name='max1')(x)\n",
    "print(x.shape)\n",
    "x = Dropout(0.5)(x)\n",
    "print(x.shape)\n",
    "print(\"=====================================================\")\n",
    "x = ZeroPadding3D(padding=(1, 2, 2), name='zero2')(x)\n",
    "print(x.shape)\n",
    "x = Conv3D(64, (3, 5, 5), strides=(1, 1, 1), activation='relu', kernel_initializer='he_normal', name='conv2')(x)\n",
    "print(x.shape)\n",
    "x = MaxPooling3D(pool_size=(1, 2, 2), strides=(1, 2, 2), name='max2')(x)\n",
    "print(x.shape)\n",
    "x = Dropout(0.5)(x)\n",
    "print(x.shape)\n",
    "print(\"=====================================================\")\n",
    "x = ZeroPadding3D(padding=(1, 1, 1), name='zero3')(x)\n",
    "print(x.shape)\n",
    "x = Conv3D(96, (3, 3, 3), strides=(1, 1, 1), activation='relu', kernel_initializer='he_normal', name='conv3')(x)\n",
    "print(x.shape)\n",
    "x = MaxPooling3D(pool_size=(1, 2, 2), strides=(1, 2, 2), name='max3')(x)\n",
    "print(x.shape)\n",
    "x = Dropout(0.5)(x)\n",
    "print(x.shape) # (BN, 5, 6, 12, 96)\n",
    "print(\"=====================================================\")\n",
    "x = TimeDistributed(Flatten())(x)\n",
    "print(x.shape) # (BN, 5, 6912)\n",
    "print(\"=====================================================\")\n",
    "x = Bidirectional(GRU(256, return_sequences=True, kernel_initializer='Orthogonal', name='gru1'), merge_mode='concat')(x)\n",
    "print(x.shape)\n",
    "x = Bidirectional(GRU(256, return_sequences=False, kernel_initializer='Orthogonal', name='gru2'), merge_mode='concat')(x)\n",
    "print(x.shape)\n",
    "print(\"=====================================================\")\n",
    "x = Dense(output_size, kernel_initializer='he_normal', name='dense1')(x)\n",
    "print(x.shape)\n",
    "print(\"=====================================================\")\n",
    "y_pred = Activation('softmax', name='softmax')(x)\n",
    "print(y_pred.shape)"
   ]
  },
  {
   "cell_type": "code",
   "execution_count": 14,
   "id": "a797b342",
   "metadata": {},
   "outputs": [],
   "source": [
    "class LipNet(object):\n",
    "    def __init__(self, img_c, img_w, img_h, frames_n, output_size):\n",
    "        self.img_c = img_c\n",
    "        self.img_w = img_w\n",
    "        self.img_h = img_h\n",
    "        self.frames_n = frames_n\n",
    "        self.output_size = output_size\n",
    "        self.build()\n",
    "        \n",
    "    def build(self):\n",
    "        input_shape = (self.frames_n, self.img_w, self.img_h, self.img_c)\n",
    "        #if K.image_data_format() == 'channels_first':\n",
    "            #input_shape = (self.img_c, self.frames_n, self.img_w, self.img_h)\n",
    "        #else:\n",
    "            #input_shape = (self.frames_n, self.img_w, self.img_h, self.img_c)\n",
    "        \n",
    "        self.input_data = Input(name = 'the_input', shape = (5, 100, 200, 3), dtype = 'float32')\n",
    "        self.zero1 = ZeroPadding3D(padding=(1, 2, 2), name='zero1')(self.input_data)\n",
    "        self.conv1 = Conv3D(32, (3, 5, 5), strides=(1, 2, 2), kernel_initializer='he_normal', name='conv1')(self.zero1)\n",
    "        self.batc1 = BatchNormalization(name='batc1')(self.conv1)\n",
    "        self.actv1 = Activation('relu', name='actv1')(self.batc1)\n",
    "        self.drop1 = SpatialDropout3D(0.5)(self.actv1)\n",
    "        self.maxp1 = MaxPooling3D(pool_size=(1, 2, 2), strides=(1, 2, 2), name='max1')(self.drop1)\n",
    "\n",
    "        self.zero2 = ZeroPadding3D(padding=(1, 2, 2), name='zero2')(self.maxp1)\n",
    "        self.conv2 = Conv3D(64, (3, 5, 5), strides=(1, 1, 1), kernel_initializer='he_normal', name='conv2')(self.zero2)\n",
    "        self.batc2 = BatchNormalization(name='batc2')(self.conv2)\n",
    "        self.actv2 = Activation('relu', name='actv2')(self.batc2)\n",
    "        self.drop2 = SpatialDropout3D(0.5)(self.actv2)\n",
    "        self.maxp2 = MaxPooling3D(pool_size=(1, 2, 2), strides=(1, 2, 2), name='max2')(self.drop2)\n",
    "\n",
    "        self.zero3 = ZeroPadding3D(padding=(1, 1, 1), name='zero3')(self.maxp2)\n",
    "        self.conv3 = Conv3D(96, (3, 3, 3), strides=(1, 1, 1), kernel_initializer='he_normal', name='conv3')(self.zero3)\n",
    "        self.batc3 = BatchNormalization(name='batc3')(self.conv3)\n",
    "        self.actv3 = Activation('relu', name='actv3')(self.batc3)\n",
    "        self.drop3 = SpatialDropout3D(0.5)(self.actv3)\n",
    "        self.maxp3 = MaxPooling3D(pool_size=(1, 2, 2), strides=(1, 2, 2), name='max3')(self.drop3)\n",
    "\n",
    "\n",
    "        self.resh1 = TimeDistributed(Flatten())(self.maxp3)\n",
    "\n",
    "\n",
    "        self.gru_1 = Bidirectional(GRU(256, return_sequences=True, kernel_initializer='Orthogonal', name='gru1'), merge_mode='concat')(self.resh1)\n",
    "        self.gru_2 = Bidirectional(GRU(256, return_sequences=True, kernel_initializer='Orthogonal', name='gru2'), merge_mode='concat')(self.gru_1)\n",
    "\n",
    "        # transforms RNN output to character activations:\n",
    "        self.dense1 = Dense(self.output_size, kernel_initializer='he_normal', name='dense1')(self.gru_2)\n",
    "\n",
    "        self.y_pred = Activation('softmax', name='softmax')(self.dense1)\n",
    "        \n",
    "        ####\n",
    "        # y_true: (samples, max_string_length) : containing the truth labels\n",
    "        # y_pred: (samples, time_steps, num_categories) : containing the prediction, or output of the softmax\n",
    "        # input_length: (samples, 1): containing the sequence length for each batch item in y_pred\n",
    "        # label_length: (samples, 1): containing the sequence length for each batch item in y_true\n",
    "        ####\n",
    "        self.labels = Input(name='the_labels', shape=[13], dtype='float32')\n",
    "        self.input_length = Input(name='input_length', shape=[1], dtype='int64')\n",
    "        self.label_length = Input(name='label_length', shape=[1], dtype='int64')\n",
    "\n",
    "        self.loss_out = CTC('ctc', [self.y_pred, self.labels, self.input_length, self.label_length])\n",
    "\n",
    "        self.model = Model(inputs=[self.input_data, self.labels, self.input_length, self.label_length], outputs=self.loss_out)\n",
    "        \n",
    "    def summary(self):\n",
    "        Model(inputs = self.input_data, outputs = self.y_pred).summary()\n",
    "        \n",
    "    def predict(self, input_batch):\n",
    "        return self.test_function([input_batch, 0])[0]  # the first 0 indicates test\n",
    "    \n",
    "    @property\n",
    "    def test_function(self):\n",
    "        # captures output of softmax so we can decode the output during visualization\n",
    "        return K.function([self.input_data, K.learning_phase()], [self.y_pred, K.learning_phase()])"
   ]
  },
  {
   "cell_type": "code",
   "execution_count": 21,
   "id": "cbe4ac9b",
   "metadata": {},
   "outputs": [
    {
     "name": "stdout",
     "output_type": "stream",
     "text": [
      "Model: \"model_9\"\n",
      "_________________________________________________________________\n",
      " Layer (type)                Output Shape              Param #   \n",
      "=================================================================\n",
      " the_input (InputLayer)      [(None, 5, 100, 200, 3)]  0         \n",
      "                                                                 \n",
      " zero1 (ZeroPadding3D)       (None, 7, 104, 204, 3)    0         \n",
      "                                                                 \n",
      " conv1 (Conv3D)              (None, 5, 50, 100, 32)    7232      \n",
      "                                                                 \n",
      " batc1 (BatchNormalization)  (None, 5, 50, 100, 32)    128       \n",
      "                                                                 \n",
      " actv1 (Activation)          (None, 5, 50, 100, 32)    0         \n",
      "                                                                 \n",
      " spatial_dropout3d_12 (Spati  (None, 5, 50, 100, 32)   0         \n",
      " alDropout3D)                                                    \n",
      "                                                                 \n",
      " max1 (MaxPooling3D)         (None, 5, 25, 50, 32)     0         \n",
      "                                                                 \n",
      " zero2 (ZeroPadding3D)       (None, 7, 29, 54, 32)     0         \n",
      "                                                                 \n",
      " conv2 (Conv3D)              (None, 5, 25, 50, 64)     153664    \n",
      "                                                                 \n",
      " batc2 (BatchNormalization)  (None, 5, 25, 50, 64)     256       \n",
      "                                                                 \n",
      " actv2 (Activation)          (None, 5, 25, 50, 64)     0         \n",
      "                                                                 \n",
      " spatial_dropout3d_13 (Spati  (None, 5, 25, 50, 64)    0         \n",
      " alDropout3D)                                                    \n",
      "                                                                 \n",
      " max2 (MaxPooling3D)         (None, 5, 12, 25, 64)     0         \n",
      "                                                                 \n",
      " zero3 (ZeroPadding3D)       (None, 7, 14, 27, 64)     0         \n",
      "                                                                 \n",
      " conv3 (Conv3D)              (None, 5, 12, 25, 96)     165984    \n",
      "                                                                 \n",
      " batc3 (BatchNormalization)  (None, 5, 12, 25, 96)     384       \n",
      "                                                                 \n",
      " actv3 (Activation)          (None, 5, 12, 25, 96)     0         \n",
      "                                                                 \n",
      " spatial_dropout3d_14 (Spati  (None, 5, 12, 25, 96)    0         \n",
      " alDropout3D)                                                    \n",
      "                                                                 \n",
      " max3 (MaxPooling3D)         (None, 5, 6, 12, 96)      0         \n",
      "                                                                 \n",
      " time_distributed_6 (TimeDis  (None, 5, 6912)          0         \n",
      " tributed)                                                       \n",
      "                                                                 \n",
      " bidirectional_12 (Bidirecti  (None, 5, 512)           11013120  \n",
      " onal)                                                           \n",
      "                                                                 \n",
      " bidirectional_13 (Bidirecti  (None, 5, 512)           1182720   \n",
      " onal)                                                           \n",
      "                                                                 \n",
      " dense1 (Dense)              (None, 5, 13)             6669      \n",
      "                                                                 \n",
      " softmax (Activation)        (None, 5, 13)             0         \n",
      "                                                                 \n",
      "=================================================================\n",
      "Total params: 12,530,157\n",
      "Trainable params: 12,529,773\n",
      "Non-trainable params: 384\n",
      "_________________________________________________________________\n"
     ]
    }
   ],
   "source": [
    "from tensorflow.keras.optimizers import legacy\n",
    "\n",
    "lipnet = LipNet(img_c=3, img_w=100, img_h=200, frames_n=5, output_size=13)\n",
    "lipnet.summary()\n",
    "adam = legacy.Adam(learning_rate=0.0001, beta_1=0.9, beta_2=0.999, epsilon=1e-08)\n",
    "lipnet.model.compile(loss={'ctc': lambda y_true, y_pred: y_pred}, optimizer=adam, metrics=['accuracy']) "
   ]
  },
  {
   "cell_type": "code",
   "execution_count": 22,
   "id": "e00092f5",
   "metadata": {},
   "outputs": [],
   "source": [
    "from keras.models import load_model\n",
    "model = lipnet.model.load_weights(\"ModelCheckpoint/\")"
   ]
  },
  {
   "cell_type": "code",
   "execution_count": 23,
   "id": "b47ddfb5",
   "metadata": {},
   "outputs": [
    {
     "data": {
      "text/plain": [
       "<tensorflow.python.checkpoint.checkpoint.CheckpointLoadStatus at 0x214caff1430>"
      ]
     },
     "execution_count": 23,
     "metadata": {},
     "output_type": "execute_result"
    }
   ],
   "source": [
    "model"
   ]
  },
  {
   "cell_type": "code",
   "execution_count": 24,
   "id": "ecf007f7",
   "metadata": {},
   "outputs": [],
   "source": [
    "import dlib\n",
    "import cv2\n",
    "import numpy as np\n",
    "import tensorflow as tf\n",
    "from keras.preprocessing import image"
   ]
  },
  {
   "cell_type": "code",
   "execution_count": 25,
   "id": "62e37f3c",
   "metadata": {},
   "outputs": [],
   "source": [
    "def shape_to_np(shape, dtype=\"int\"):\n",
    "    # initialize the list of (x, y)-coordinates\n",
    "    coords = np.zeros((20, 2), dtype=dtype)\n",
    "    # for only lip landmarks\n",
    "    n = 0\n",
    "    for i in range(48, shape.num_parts):\n",
    "        coords[n] = (shape.part(i).x, shape.part(i).y)\n",
    "        n += 1\n",
    "\n",
    "    # return the list of (x, y)-coordinates\n",
    "    return coords"
   ]
  },
  {
   "cell_type": "code",
   "execution_count": 26,
   "id": "87de11b7",
   "metadata": {},
   "outputs": [],
   "source": [
    "def get_rect(shape):\n",
    "    rw = 0\n",
    "    rh = 0\n",
    "    rx = 65535\n",
    "    ry = 65535\n",
    "    for (x,y) in shape:\n",
    "        rw = max(rw,x) # w\n",
    "        rh = max(rh,y) # h\n",
    "        rx = min(rx,x) # x\n",
    "        ry = min(ry,y) # y\n",
    "    return (rx,ry,rw-rx,rh-ry)"
   ]
  },
  {
   "cell_type": "code",
   "execution_count": 28,
   "id": "50c10d71",
   "metadata": {},
   "outputs": [],
   "source": [
    "from tensorflow.keras.preprocessing.image import img_to_array, array_to_img\n",
    "\n",
    "detector = dlib.get_frontal_face_detector()\n",
    "predictor = dlib.shape_predictor(\"data/shape_predictor_68_face_landmarks.dat\") # predict 해주는애       \n",
    "\n",
    "count = 0\n",
    "\n",
    "cap = cv2.VideoCapture(0)\n",
    "while(cap.isOpened()):\n",
    "    ret, frame = cap.read()\n",
    "    if ret == True:\n",
    "        image = cv2.resize(frame, dsize = (640, 480), interpolation = cv2.INTER_AREA)\n",
    "        img = image.copy()\n",
    "        img_gray = cv2.cvtColor(image, cv2.COLOR_BGR2GRAY)\n",
    "        \n",
    "        face_detector = detector(img_gray, 1)\n",
    "        cv2.imshow('frame',image)  \n",
    "        for face in face_detector:\n",
    "            landmarks = predictor(image, face)\n",
    "            landmarks = shape_to_np(landmarks)\n",
    "            # select center of mouth\n",
    "            x_list = [x[0] for x in landmarks]\n",
    "            y_list = [y[1] for y in landmarks]\n",
    "            x = sum(x_list)//20\n",
    "            y = sum(y_list)//20\n",
    "            dst = img[y-50:y+50, x-100:x+100].copy()\n",
    "            img_tensor = img_to_array(dst) #tensor로 type 변경\n",
    "            img_tensor /= 255. # scaling  # (100, 200, 3)\n",
    "            img_tensor = np.expand_dims(img_tensor, axis = 0) #(1, 100, 200, 3)  \n",
    "            # frame 별 묶기\n",
    "            if count == 0:\n",
    "                x_data = img_tensor\n",
    "                count += 1\n",
    "            else:\n",
    "                x_data = np.concatenate((x_data, img_tensor), axis = 0)\n",
    "        if cv2.waitKey(1) & 0xFF == ord('q'):\n",
    "            break\n",
    "    else:\n",
    "        break\n",
    "cap.release()\n",
    "cv2.destroyAllWindows()"
   ]
  },
  {
   "cell_type": "code",
   "execution_count": 29,
   "id": "da767827",
   "metadata": {},
   "outputs": [
    {
     "data": {
      "text/plain": [
       "(5, 100, 200, 3)"
      ]
     },
     "execution_count": 29,
     "metadata": {},
     "output_type": "execute_result"
    }
   ],
   "source": [
    "x_data[:5].shape"
   ]
  },
  {
   "cell_type": "code",
   "execution_count": 30,
   "id": "828eb0f7",
   "metadata": {},
   "outputs": [],
   "source": [
    "data = x_data[:5].reshape(-1,5,100, 200, 3)"
   ]
  },
  {
   "cell_type": "code",
   "execution_count": 31,
   "id": "eb58a60d",
   "metadata": {},
   "outputs": [
    {
     "name": "stdout",
     "output_type": "stream",
     "text": [
      "(1, 5, 100, 200, 3)\n"
     ]
    }
   ],
   "source": [
    "print(data.shape)"
   ]
  },
  {
   "cell_type": "code",
   "execution_count": null,
   "id": "1c3f48a3",
   "metadata": {},
   "outputs": [],
   "source": [
    "answer = model.predict(data)\n",
    "print(answer)"
   ]
  }
 ],
 "metadata": {
  "kernelspec": {
   "display_name": "Python 3 (ipykernel)",
   "language": "python",
   "name": "python3"
  },
  "language_info": {
   "codemirror_mode": {
    "name": "ipython",
    "version": 3
   },
   "file_extension": ".py",
   "mimetype": "text/x-python",
   "name": "python",
   "nbconvert_exporter": "python",
   "pygments_lexer": "ipython3",
   "version": "3.9.16"
  }
 },
 "nbformat": 4,
 "nbformat_minor": 5
}
