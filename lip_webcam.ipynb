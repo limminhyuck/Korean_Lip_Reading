{
 "cells": [
  {
   "cell_type": "code",
   "execution_count": 1,
   "id": "ddc98061",
   "metadata": {},
   "outputs": [
    {
     "name": "stdout",
     "output_type": "stream",
     "text": [
      "48 포인트 변화량 - 1188, 51 포인트 변화량 - 122, 54 포인트 변화량 - 1124, 57 포인트 변화량 - 442\n",
      "48 포인트 변화량 - 1170, 51 포인트 변화량 - 122, 54 포인트 변화량 - 1137, 57 포인트 변화량 - 442\n",
      "48 포인트 변화량 - 1170, 51 포인트 변화량 - 122, 54 포인트 변화량 - 1192, 57 포인트 변화량 - 484\n",
      "48 포인트 변화량 - 1255, 51 포인트 변화량 - 121, 54 포인트 변화량 - 1205, 57 포인트 변화량 - 530\n",
      "48 포인트 변화량 - 1237, 51 포인트 변화량 - 122, 54 포인트 변화량 - 1192, 57 포인트 변화량 - 484\n",
      "48 포인트 변화량 - 1325, 51 포인트 변화량 - 122, 54 포인트 변화량 - 1205, 57 포인트 변화량 - 484\n",
      "48 포인트 변화량 - 1255, 51 포인트 변화량 - 122, 54 포인트 변화량 - 1205, 57 포인트 변화량 - 442\n",
      "48 포인트 변화량 - 1255, 51 포인트 변화량 - 101, 54 포인트 변화량 - 1219, 57 포인트 변화량 - 442\n",
      "48 포인트 변화량 - 1237, 51 포인트 변화량 - 121, 54 포인트 변화량 - 1274, 57 포인트 변화량 - 484\n",
      "48 포인트 변화량 - 1153, 51 포인트 변화량 - 121, 54 포인트 변화량 - 1274, 57 포인트 변화량 - 484\n",
      "48 포인트 변화량 - 1306, 51 포인트 변화량 - 121, 54 포인트 변화량 - 1274, 57 포인트 변화량 - 529\n"
     ]
    }
   ],
   "source": [
    "import dlib\n",
    "import cv2\n",
    "import numpy as np\n",
    "\n",
    "# dlib의 얼굴 검출기와 얼굴 랜드마크 모델을 로드합니다.\n",
    "detector = dlib.get_frontal_face_detector()\n",
    "predictor = dlib.shape_predictor(\"data/shape_predictor_68_face_landmarks.dat\")\n",
    "\n",
    "# 입술 변화량 저장할 리스트 초기화\n",
    "lip_changes = []\n",
    "\n",
    "# 웹캠을 초기화합니다.\n",
    "cap = cv2.VideoCapture(0)\n",
    "frame_count = 0\n",
    "\n",
    "while True:\n",
    "    # 웹캠에서 프레임을 읽어옵니다.\n",
    "    ret, frame = cap.read()\n",
    "\n",
    "    # 얼굴 인식을 위해 흑백 이미지로 변환합니다.\n",
    "    gray = cv2.cvtColor(frame, cv2.COLOR_BGR2GRAY)\n",
    "\n",
    "    # 얼굴 영역을 찾습니다.\n",
    "    faces = detector(gray)\n",
    "\n",
    "    if ret and frame_count % 5 == 0:  # 5프레임마다 출력\n",
    "        for face in faces:\n",
    "            # 얼굴 랜드마크를 예측합니다.\n",
    "            landmarks = predictor(gray, face)\n",
    "\n",
    "            # 입술 영역의 좌표 추출\n",
    "        \n",
    "            lip_center_point = np.array((landmarks.part(62).x, landmarks.part(62).y))\n",
    "\n",
    "            # 이전 프레임의 포인트 초기화\n",
    "            prev_point = lip_center_point\n",
    "\n",
    "            # 입술 변화량 초기화\n",
    "            lip_change = [0, 0, 0, 0]  # 48, 51, 54, 57 포인트의 변화량을 저장할 리스트\n",
    "\n",
    "            # 입술 영역 표시\n",
    "            for i in [48, 51, 54, 57]:\n",
    "                x = landmarks.part(i).x - lip_center_point[0]\n",
    "                y = landmarks.part(i).y - lip_center_point[1]\n",
    "\n",
    "                # 포인트의 변화량 계산\n",
    "                lip_change[i // 3 - 16] = int(np.sqrt(x ** 2 + y ** 2) ** 2)\n",
    "\n",
    "            # 57 포인트 값이 220 이하인 경우에만 출력\n",
    "            if lip_change[3] <= 210:\n",
    "                lip_change = [0, 0, 0, 0]\n",
    "                print(f\"48 포인트 변화량 - {lip_change[0]}, 51 포인트 변화량 - {lip_change[1]}, 54 포인트 변화량 - {lip_change[2]}, 57 포인트 변화량 - {lip_change[3]}\")\n",
    "            else:\n",
    "                print(f\"48 포인트 변화량 - {lip_change[0]}, 51 포인트 변화량 - {lip_change[1]}, 54 포인트 변화량 - {lip_change[2]}, 57 포인트 변화량 - {lip_change[3]}\")\n",
    "\n",
    "            # 입술 변화량 리스트에 추가\n",
    "            lip_changes.append(lip_change)\n",
    "\n",
    "    # 결과를 화면에 표시합니다.\n",
    "    cv2.imshow(\"Frame\", frame)\n",
    "\n",
    "    frame_count += 1\n",
    "\n",
    "    # 'q' 키를 누르면 종료합니다.\n",
    "    if cv2.waitKey(1) & 0xFF == ord('q'):\n",
    "        break\n",
    "\n",
    "# 웹캠을 해제합니다.\n",
    "cap.release()\n",
    "cv2.destroyAllWindows()\n"
   ]
  },
  {
   "cell_type": "code",
   "execution_count": 25,
   "id": "1b9cc8cd",
   "metadata": {},
   "outputs": [
    {
     "name": "stdout",
     "output_type": "stream",
     "text": [
      "[680, 36, 487, 307]\n",
      "[616, 40, 495, 302]\n",
      "[625, 39, 522, 401]\n",
      "[669, 36, 510, 388]\n",
      "[533, 36, 415, 256]\n"
     ]
    }
   ],
   "source": [
    "averages = []  # 평균값을 저장할 리스트\n",
    "\n",
    "i = 0\n",
    "while i < len(lip_changes):\n",
    "    if lip_changes[i] != [0, 0, 0, 0]:  # 0이 아닌 지점 찾기\n",
    "        start_idx = i\n",
    "        end_idx = i\n",
    "        while end_idx < len(lip_changes) and lip_changes[end_idx] != [0, 0, 0, 0]:  # 0이 되는 지점 찾기\n",
    "            end_idx += 1\n",
    "\n",
    "        # 0이 아닌 지점부터 0이 되는 지점까지의 각 포인트의 평균을 계산합니다.\n",
    "        avg = [int(sum(x) / (end_idx - start_idx)) for x in zip(*lip_changes[start_idx:end_idx])]\n",
    "        averages.append(avg)\n",
    "\n",
    "        i = end_idx\n",
    "    else:\n",
    "        i += 1\n",
    "\n",
    "# 결과 출력\n",
    "for avg in averages:\n",
    "    print(avg)"
   ]
  },
  {
   "cell_type": "code",
   "execution_count": 26,
   "id": "9d39bb22",
   "metadata": {},
   "outputs": [
    {
     "data": {
      "text/plain": [
       "[[680, 36, 487, 307],\n",
       " [616, 40, 495, 302],\n",
       " [625, 39, 522, 401],\n",
       " [669, 36, 510, 388],\n",
       " [533, 36, 415, 256]]"
      ]
     },
     "execution_count": 26,
     "metadata": {},
     "output_type": "execute_result"
    }
   ],
   "source": [
    "averages"
   ]
  },
  {
   "cell_type": "code",
   "execution_count": 27,
   "id": "f3122584",
   "metadata": {},
   "outputs": [
    {
     "name": "stdout",
     "output_type": "stream",
     "text": [
      "입모양과 맞는 단어가 없습니다.\n"
     ]
    }
   ],
   "source": [
    "import os\n",
    "\n",
    "directory_path = \"answer\"\n",
    "\n",
    "# 임계값 안에 들어오는 파일 이름들을 저장할 리스트\n",
    "files_within_threshold = []\n",
    "\n",
    "# 디렉토리 안의 모든 파일 순회\n",
    "for filename in os.listdir(directory_path):\n",
    "    if filename.endswith(\".txt\"):  # 확장자가 .txt인 파일만 처리\n",
    "        file_path = os.path.join(directory_path, filename)\n",
    "\n",
    "        # 파일 내용 읽어오기\n",
    "        saved_lists = []\n",
    "        with open(file_path, \"r\") as file:\n",
    "            lines = file.readlines()\n",
    "            for line in lines:\n",
    "                line = line.strip()  # 줄 바꿈 문자 제거\n",
    "                saved_list = list(map(int, line.split(\",\")))  # 쉼표로 분리하여 정수 리스트로 변환\n",
    "                saved_lists.append(saved_list)\n",
    "\n",
    "        # 파일 줄 수와 averages 리스트의 길이 비교\n",
    "        if len(saved_lists) != len(averages):\n",
    "            continue  # 비교하지 않고 다음 파일로 넘어감\n",
    "\n",
    "        # 임계값 설정\n",
    "        threshold = 300\n",
    "\n",
    "        # 비교 수행\n",
    "        is_in_threshold = True  # 임계값 안에 들어왔는지 여부\n",
    "        for i in range(len(saved_lists)):\n",
    "            for j in range(len(saved_lists[i])):\n",
    "                if abs(saved_lists[i][j] - averages[i][j]) > threshold:\n",
    "                    is_in_threshold = False\n",
    "                    break\n",
    "            if not is_in_threshold:\n",
    "                break\n",
    "\n",
    "        if is_in_threshold:\n",
    "            files_within_threshold.append(os.path.splitext(filename)[0])  # .txt 확장자 제외한 파일 이름 저장\n",
    "\n",
    "if files_within_threshold:\n",
    "    print(\"상대방: \", end=\"\")\n",
    "    for filename in files_within_threshold:\n",
    "        print(filename)\n",
    "else:\n",
    "    print(\"입모양과 맞는 단어가 없습니다.\")\n"
   ]
  },
  {
   "cell_type": "code",
   "execution_count": null,
   "id": "69ff3bd5",
   "metadata": {},
   "outputs": [],
   "source": []
  }
 ],
 "metadata": {
  "kernelspec": {
   "display_name": "Python 3 (ipykernel)",
   "language": "python",
   "name": "python3"
  },
  "language_info": {
   "codemirror_mode": {
    "name": "ipython",
    "version": 3
   },
   "file_extension": ".py",
   "mimetype": "text/x-python",
   "name": "python",
   "nbconvert_exporter": "python",
   "pygments_lexer": "ipython3",
   "version": "3.9.16"
  }
 },
 "nbformat": 4,
 "nbformat_minor": 5
}
