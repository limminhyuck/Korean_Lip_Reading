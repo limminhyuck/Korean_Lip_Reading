{
 "cells": [
  {
   "cell_type": "code",
   "execution_count": 49,
   "id": "2c437597",
   "metadata": {},
   "outputs": [],
   "source": [
    "import dlib\n",
    "import cv2\n",
    "import numpy as np\n",
    "import tensorflow as tf\n",
    "from keras.preprocessing import image\n",
    "\n",
    "from sklearn.model_selection import train_test_split\n",
    "\n",
    "import tensorflow as tf\n",
    "from tensorflow import keras\n",
    "from tensorflow.keras import layers\n",
    "from tensorflow.keras.models import Sequential\n",
    "from tensorflow.keras import models, layers, activations\n",
    "from tensorflow.keras.layers import Conv2D, TimeDistributed, BatchNormalization, MaxPooling2D, Flatten, Bidirectional, Dense,Dropout,Flatten\n",
    "from tensorflow.keras.applications import VGG16\n",
    "from tensorflow.keras.callbacks import EarlyStopping\n",
    "\n",
    "from tensorflow.keras.applications.mobilenet import MobileNet\n",
    "from tensorflow.keras.layers import Input"
   ]
  },
  {
   "cell_type": "code",
   "execution_count": 50,
   "id": "22cf7846",
   "metadata": {},
   "outputs": [],
   "source": [
    "def shape_to_np(shape, dtype=\"int\"):\n",
    "    # initialize the list of (x, y)-coordinates\n",
    "    coords = np.zeros((20, 2), dtype=dtype)\n",
    "    # for only lip landmarks\n",
    "    n = 0\n",
    "    for i in range(48, shape.num_parts):\n",
    "        coords[n] = (shape.part(i).x, shape.part(i).y)\n",
    "        n += 1\n",
    "\n",
    "    # return the list of (x, y)-coordinates\n",
    "    return coords"
   ]
  },
  {
   "cell_type": "code",
   "execution_count": 51,
   "id": "fe3c4a4c",
   "metadata": {},
   "outputs": [],
   "source": [
    "def get_rect(shape):\n",
    "    rw = 0\n",
    "    rh = 0\n",
    "    rx = 65535\n",
    "    ry = 65535\n",
    "    for (x,y) in shape:\n",
    "        rw = max(rw,x) # w\n",
    "        rh = max(rh,y) # h\n",
    "        rx = min(rx,x) # x\n",
    "        ry = min(ry,y) # y\n",
    "    return (rx,ry,rw-rx,rh-ry)"
   ]
  },
  {
   "cell_type": "code",
   "execution_count": 63,
   "id": "10d7c5f6",
   "metadata": {},
   "outputs": [],
   "source": [
    "from tensorflow.keras.preprocessing.image import img_to_array, array_to_img\n",
    "\n",
    "detector = dlib.get_frontal_face_detector()\n",
    "predictor = dlib.shape_predictor(\"data/shape_predictor_68_face_landmarks.dat\") # predict 해주는애       \n",
    "\n",
    "count = 0\n",
    "\n",
    "cap = cv2.VideoCapture(0)\n",
    "while(cap.isOpened()):\n",
    "    ret, frame = cap.read()\n",
    "    if ret == True:\n",
    "        image = cv2.resize(frame, dsize = (640, 480), interpolation = cv2.INTER_AREA)\n",
    "        img = image.copy()\n",
    "        img_gray = cv2.cvtColor(image, cv2.COLOR_BGR2GRAY)\n",
    "        \n",
    "        face_detector = detector(img_gray, 1)\n",
    "        cv2.imshow('frame',image)  \n",
    "        for face in face_detector:\n",
    "            landmarks = predictor(image, face)\n",
    "            landmarks = shape_to_np(landmarks)\n",
    "            # select center of mouth\n",
    "            x_list = [x[0] for x in landmarks]\n",
    "            y_list = [y[1] for y in landmarks]\n",
    "            x = sum(x_list)//20\n",
    "            y = sum(y_list)//20\n",
    "            dst = img[y-50:y+50, x-100:x+100].copy()\n",
    "            img_tensor = img_to_array(dst) #tensor로 type 변경\n",
    "            img_tensor /= 255. # scaling  # (100, 200, 3)\n",
    "            img_tensor = np.expand_dims(img_tensor, axis = 0) #(1, 100, 200, 3)  \n",
    "            # frame 별 묶기\n",
    "            if count == 0:\n",
    "                x_data = img_tensor\n",
    "                count += 1\n",
    "            else:\n",
    "                x_data = np.concatenate((x_data, img_tensor), axis = 0)\n",
    "        if cv2.waitKey(1) & 0xFF == ord('q'):\n",
    "            break\n",
    "    else:\n",
    "        break\n",
    "cap.release()\n",
    "cv2.destroyAllWindows()"
   ]
  },
  {
   "cell_type": "code",
   "execution_count": 64,
   "id": "40a96fed",
   "metadata": {},
   "outputs": [
    {
     "data": {
      "text/plain": [
       "(1, 100, 200, 3)"
      ]
     },
     "execution_count": 64,
     "metadata": {},
     "output_type": "execute_result"
    }
   ],
   "source": [
    "# input x의 값\n",
    "x_data[:1].shape"
   ]
  },
  {
   "cell_type": "code",
   "execution_count": 65,
   "id": "3f5e7f81",
   "metadata": {},
   "outputs": [],
   "source": [
    "data = x_data[:1].reshape(-1,1,100, 200, 3)"
   ]
  },
  {
   "cell_type": "code",
   "execution_count": 66,
   "id": "d80ef8ca",
   "metadata": {},
   "outputs": [
    {
     "name": "stdout",
     "output_type": "stream",
     "text": [
      "(1, 1, 100, 200, 3)\n"
     ]
    }
   ],
   "source": [
    "print(data.shape)"
   ]
  },
  {
   "cell_type": "code",
   "execution_count": 67,
   "id": "d6263c81",
   "metadata": {},
   "outputs": [],
   "source": [
    "class MobileNet_LSTM(keras.Model):\n",
    "    def __init__(self, num_classes):\n",
    "        super(MobileNet_LSTM, self).__init__()\n",
    "        \n",
    "        self.mobile = TimeDistributed(MobileNet(include_top=False))\n",
    "\n",
    "        #self.mobile = TimeDistributed(MobileNet(#weights='imagenet', include_top=False))\n",
    "\n",
    "        self.bilstm = layers.Bidirectional(layers.LSTM(256), merge_mode='concat')\n",
    "        self.dense = layers.Dense(num_classes, activation='softmax')\n",
    "        self.max = TimeDistributed(MaxPooling2D(pool_size=(2, 2)))\n",
    "        self.dropout = layers.Dropout(0.2)\n",
    "        self.flat= TimeDistributed(Flatten())\n",
    "\n",
    "    def call(self, x):\n",
    "        x = self.mobile(x)\n",
    "        x = self.max(x)\n",
    "        x = self.dropout(x)      \n",
    "        x = self.flat(x)\n",
    "        x = self.dropout(x)\n",
    "        x = self.bilstm(x)\n",
    "        return self.dense(x)"
   ]
  },
  {
   "cell_type": "code",
   "execution_count": 68,
   "id": "cd9873e1",
   "metadata": {},
   "outputs": [
    {
     "name": "stdout",
     "output_type": "stream",
     "text": [
      "WARNING:tensorflow:`input_shape` is undefined or non-square, or `rows` is not in [128, 160, 192, 224]. Weights for input shape (224, 224) will be loaded as the default.\n"
     ]
    }
   ],
   "source": [
    "mobilenet = MobileNet_LSTM(num_classes = 3)"
   ]
  },
  {
   "cell_type": "code",
   "execution_count": 69,
   "id": "38769b2c",
   "metadata": {},
   "outputs": [
    {
     "data": {
      "text/plain": [
       "<tensorflow.python.training.tracking.util.CheckpointLoadStatus at 0x1ae006f1490>"
      ]
     },
     "execution_count": 69,
     "metadata": {},
     "output_type": "execute_result"
    }
   ],
   "source": [
    "mobilenet.load_weights('MobileNet_weights')"
   ]
  },
  {
   "cell_type": "code",
   "execution_count": 70,
   "id": "8fd2d8b1",
   "metadata": {},
   "outputs": [
    {
     "name": "stdout",
     "output_type": "stream",
     "text": [
      "1/1 [==============================] - 2s 2s/step\n",
      "[[0.29890463 0.43694827 0.26414707]]\n"
     ]
    }
   ],
   "source": [
    "answer = mobilenet.predict(data)\n",
    "print(answer)"
   ]
  },
  {
   "cell_type": "code",
   "execution_count": 71,
   "id": "08d2eb52",
   "metadata": {},
   "outputs": [],
   "source": [
    "words = ['우', '린', '니', '까']"
   ]
  },
  {
   "cell_type": "code",
   "execution_count": 72,
   "id": "100f2539",
   "metadata": {},
   "outputs": [
    {
     "name": "stdout",
     "output_type": "stream",
     "text": [
      "린\n"
     ]
    }
   ],
   "source": [
    "sent = words[np.argmax(answer)]\n",
    "print(sent)"
   ]
  },
  {
   "cell_type": "code",
   "execution_count": 73,
   "id": "9d256fdc",
   "metadata": {},
   "outputs": [
    {
     "name": "stdout",
     "output_type": "stream",
     "text": [
      "린\n"
     ]
    }
   ],
   "source": [
    "string = ''\n",
    "total = string + sent\n",
    "print(total)"
   ]
  },
  {
   "cell_type": "code",
   "execution_count": null,
   "id": "9235f5bc",
   "metadata": {},
   "outputs": [],
   "source": []
  }
 ],
 "metadata": {
  "kernelspec": {
   "display_name": "Python 3 (ipykernel)",
   "language": "python",
   "name": "python3"
  },
  "language_info": {
   "codemirror_mode": {
    "name": "ipython",
    "version": 3
   },
   "file_extension": ".py",
   "mimetype": "text/x-python",
   "name": "python",
   "nbconvert_exporter": "python",
   "pygments_lexer": "ipython3",
   "version": "3.9.16"
  }
 },
 "nbformat": 4,
 "nbformat_minor": 5
}
