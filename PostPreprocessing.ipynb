{
 "cells": [
  {
   "cell_type": "code",
   "execution_count": 8,
   "id": "4714a4fa",
   "metadata": {},
   "outputs": [],
   "source": [
    "from difflib import SequenceMatcher\n",
    "# str1 = '오와우'\n",
    "# str2 = '오와우애이'\n",
    "\n",
    "# #str3 = '오와아애이'\n",
    "# #str2 = '오아우'\n",
    "# str3 = '임애'\n",
    "# str4 = '오'\n",
    "# ratio = SequenceMatcher(None, str1, str4).ratio()\n",
    "# ratio1 = SequenceMatcher(None, str3, str4).ratio()\n",
    "# print(ratio, ratio1)"
   ]
  },
  {
   "cell_type": "code",
   "execution_count": 9,
   "id": "8ffd68ce",
   "metadata": {},
   "outputs": [],
   "source": [
    "str_list = ['우이', '이우']\n",
    "\n",
    "answer_list = ['우린', '친구']"
   ]
  },
  {
   "cell_type": "code",
   "execution_count": 10,
   "id": "7cc5241e",
   "metadata": {},
   "outputs": [],
   "source": [
    "def clustering(str,list1, list2):\n",
    "    score = []\n",
    "    for i in range(len(str_list)):\n",
    "        ratio = SequenceMatcher(None, str, list1[i]).ratio()\n",
    "        score.append(ratio)\n",
    "    index = score.index(max(score))\n",
    "    return list2[index]"
   ]
  },
  {
   "cell_type": "code",
   "execution_count": 11,
   "id": "2cb444fd",
   "metadata": {},
   "outputs": [
    {
     "data": {
      "text/plain": [
       "'우린'"
      ]
     },
     "execution_count": 11,
     "metadata": {},
     "output_type": "execute_result"
    }
   ],
   "source": [
    "str = '우이'\n",
    "clustering(str, str_list, answer_list)"
   ]
  },
  {
   "cell_type": "code",
   "execution_count": 12,
   "id": "0b8a4575",
   "metadata": {},
   "outputs": [
    {
     "data": {
      "text/plain": [
       "'친구'"
      ]
     },
     "execution_count": 12,
     "metadata": {},
     "output_type": "execute_result"
    }
   ],
   "source": [
    "str = '이우'\n",
    "clustering(str, str_list, answer_list)"
   ]
  },
  {
   "cell_type": "code",
   "execution_count": null,
   "id": "ac6ec8c0",
   "metadata": {},
   "outputs": [],
   "source": []
  }
 ],
 "metadata": {
  "kernelspec": {
   "display_name": "Python 3 (ipykernel)",
   "language": "python",
   "name": "python3"
  },
  "language_info": {
   "codemirror_mode": {
    "name": "ipython",
    "version": 3
   },
   "file_extension": ".py",
   "mimetype": "text/x-python",
   "name": "python",
   "nbconvert_exporter": "python",
   "pygments_lexer": "ipython3",
   "version": "3.9.7"
  }
 },
 "nbformat": 4,
 "nbformat_minor": 5
}
