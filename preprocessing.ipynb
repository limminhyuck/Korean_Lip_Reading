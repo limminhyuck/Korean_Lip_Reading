{
 "cells": [
  {
   "cell_type": "code",
   "execution_count": 3,
   "id": "d2bac108",
   "metadata": {},
   "outputs": [],
   "source": [
    "def shape_to_np(shape, dtype=\"int\"):\n",
    "    # initialize the list of (x, y)-coordinates\n",
    "    coords = np.zeros((20, 2), dtype=dtype)\n",
    "    # for only lip landmarks\n",
    "    n = 0\n",
    "    for i in range(48, shape.num_parts):\n",
    "        coords[n] = (shape.part(i).x, shape.part(i).y)\n",
    "        n += 1\n",
    "\n",
    "    # return the list of (x, y)-coordinates\n",
    "    return coords"
   ]
  },
  {
   "cell_type": "code",
   "execution_count": 5,
   "id": "ca74a963",
   "metadata": {},
   "outputs": [
    {
     "ename": "IndentationError",
     "evalue": "unexpected indent (2632502586.py, line 50)",
     "output_type": "error",
     "traceback": [
      "\u001b[1;36m  Cell \u001b[1;32mIn[5], line 50\u001b[1;36m\u001b[0m\n\u001b[1;33m    cv2.destroyAllWindows()\u001b[0m\n\u001b[1;37m    ^\u001b[0m\n\u001b[1;31mIndentationError\u001b[0m\u001b[1;31m:\u001b[0m unexpected indent\n"
     ]
    }
   ],
   "source": [
    "## Dataset crop Demo\n",
    "from keras.preprocessing import image\n",
    "import cv2\n",
    "import os\n",
    "import pandas as pd\n",
    "import dlib\n",
    "import numpy as np\n",
    "\n",
    "detector = dlib.get_frontal_face_detector()\n",
    "predictor = dlib.shape_predictor(\"data/shape_predictor_68_face_landmarks.dat\") # predict 해주는애            \n",
    "\n",
    "########\n",
    "# 해당 파이썬 파일과 koread_data의 파일이 같은 파일내에 있도록 설정해두었으니\n",
    "# 맞지 않는다면 `data_dir` 수정!\n",
    "########\n",
    "\n",
    "data_dir = 'korea_data'\n",
    "data_per = os.listdir(data_dir)\n",
    "for person in data_per:\n",
    "    for sentence in os.listdir(f'{data_dir}/{person}' ):\n",
    "\n",
    "        if sentence == 'csv' or sentence == 'video' or sentence == '.DS_Store':\n",
    "            continue\n",
    "        for nums in os.listdir(f'{data_dir}/{person}/{sentence}'):\n",
    "            if nums == '.DS_Store':\n",
    "                continue\n",
    "            n = 0\n",
    "            for jpg in os.listdir(f'{data_dir}/{person}/{sentence}/{nums}/image'):\n",
    "                # 3초 안으로\n",
    "                if int(jpg[4]) > 4:\n",
    "                    break\n",
    "                faces = f'{data_dir}/{person}/{sentence}/{nums}/image/{jpg}'\n",
    "                print(faces)\n",
    "                src = cv2.imread(faces, cv2.IMREAD_COLOR)\n",
    "                img_gray = cv2.cvtColor(src, cv2.COLOR_BGR2GRAY)\n",
    "                face_detector = detector(img_gray, 1)\n",
    "                for face in face_detector:\n",
    "                    landmarks = predictor(src, face)\n",
    "                    landmarks = shape_to_np(landmarks)\n",
    "                    # select center of mouth\n",
    "                    x_list = [x[0] for x in landmarks]\n",
    "                    y_list = [y[1] for y in landmarks]\n",
    "                    x = sum(x_list)//20\n",
    "                    y = sum(y_list)//20\n",
    "                dst = src[y-50:y+50, x-100:x+100].copy()\n",
    "                cv2.imshow(\"src\", src)\n",
    "                cv2.imshow(\"dst\", dst)\n",
    "                cv2.waitKey()\n",
    "                cv2.destroyAllWindows()"
   ]
  },
  {
   "cell_type": "code",
   "execution_count": null,
   "id": "b605f271",
   "metadata": {},
   "outputs": [],
   "source": []
  }
 ],
 "metadata": {
  "kernelspec": {
   "display_name": "Python 3 (ipykernel)",
   "language": "python",
   "name": "python3"
  },
  "language_info": {
   "codemirror_mode": {
    "name": "ipython",
    "version": 3
   },
   "file_extension": ".py",
   "mimetype": "text/x-python",
   "name": "python",
   "nbconvert_exporter": "python",
   "pygments_lexer": "ipython3",
   "version": "3.9.16"
  }
 },
 "nbformat": 4,
 "nbformat_minor": 5
}
