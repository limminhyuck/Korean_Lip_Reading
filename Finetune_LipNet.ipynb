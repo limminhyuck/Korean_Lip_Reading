{
 "cells": [
  {
   "cell_type": "code",
   "execution_count": 1,
   "id": "e971c5db",
   "metadata": {},
   "outputs": [],
   "source": [
    "import os\n",
    "import pandas as pd\n",
    "import cv2"
   ]
  },
  {
   "cell_type": "code",
   "execution_count": 2,
   "id": "f9da3aef",
   "metadata": {},
   "outputs": [
    {
     "ename": "TypeError",
     "evalue": "Descriptors cannot not be created directly.\nIf this call came from a _pb2.py file, your generated code is out of date and must be regenerated with protoc >= 3.19.0.\nIf you cannot immediately regenerate your protos, some other possible workarounds are:\n 1. Downgrade the protobuf package to 3.20.x or lower.\n 2. Set PROTOCOL_BUFFERS_PYTHON_IMPLEMENTATION=python (but this will use pure-Python parsing and will be much slower).\n\nMore information: https://developers.google.com/protocol-buffers/docs/news/2022-05-06#python-updates",
     "output_type": "error",
     "traceback": [
      "\u001b[1;31m---------------------------------------------------------------------------\u001b[0m",
      "\u001b[1;31mTypeError\u001b[0m                                 Traceback (most recent call last)",
      "Cell \u001b[1;32mIn[2], line 1\u001b[0m\n\u001b[1;32m----> 1\u001b[0m \u001b[38;5;28;01mfrom\u001b[39;00m \u001b[38;5;21;01mkeras\u001b[39;00m\u001b[38;5;21;01m.\u001b[39;00m\u001b[38;5;21;01mlayers\u001b[39;00m\u001b[38;5;21;01m.\u001b[39;00m\u001b[38;5;21;01mconvolutional\u001b[39;00m \u001b[38;5;28;01mimport\u001b[39;00m Conv3D, ZeroPadding3D\n\u001b[0;32m      2\u001b[0m \u001b[38;5;28;01mfrom\u001b[39;00m \u001b[38;5;21;01mkeras\u001b[39;00m\u001b[38;5;21;01m.\u001b[39;00m\u001b[38;5;21;01mlayers\u001b[39;00m\u001b[38;5;21;01m.\u001b[39;00m\u001b[38;5;21;01mpooling\u001b[39;00m \u001b[38;5;28;01mimport\u001b[39;00m MaxPooling3D\n\u001b[0;32m      3\u001b[0m \u001b[38;5;28;01mfrom\u001b[39;00m \u001b[38;5;21;01mkeras\u001b[39;00m\u001b[38;5;21;01m.\u001b[39;00m\u001b[38;5;21;01mlayers\u001b[39;00m\u001b[38;5;21;01m.\u001b[39;00m\u001b[38;5;21;01mcore\u001b[39;00m \u001b[38;5;28;01mimport\u001b[39;00m Dense, Activation, Dropout, Flatten, SpatialDropout3D\n",
      "File \u001b[1;32m~\\anaconda3\\lib\\site-packages\\keras\\__init__.py:21\u001b[0m\n\u001b[0;32m     15\u001b[0m \u001b[38;5;124;03m\"\"\"Implementation of the Keras API, the high-level API of TensorFlow.\u001b[39;00m\n\u001b[0;32m     16\u001b[0m \n\u001b[0;32m     17\u001b[0m \u001b[38;5;124;03mDetailed documentation and user guides are available at\u001b[39;00m\n\u001b[0;32m     18\u001b[0m \u001b[38;5;124;03m[keras.io](https://keras.io).\u001b[39;00m\n\u001b[0;32m     19\u001b[0m \u001b[38;5;124;03m\"\"\"\u001b[39;00m\n\u001b[0;32m     20\u001b[0m \u001b[38;5;66;03m# pylint: disable=unused-import\u001b[39;00m\n\u001b[1;32m---> 21\u001b[0m \u001b[38;5;28;01mfrom\u001b[39;00m \u001b[38;5;21;01mtensorflow\u001b[39;00m\u001b[38;5;21;01m.\u001b[39;00m\u001b[38;5;21;01mpython\u001b[39;00m \u001b[38;5;28;01mimport\u001b[39;00m tf2\n\u001b[0;32m     22\u001b[0m \u001b[38;5;28;01mfrom\u001b[39;00m \u001b[38;5;21;01mkeras\u001b[39;00m \u001b[38;5;28;01mimport\u001b[39;00m distribute\n\u001b[0;32m     24\u001b[0m \u001b[38;5;28;01mfrom\u001b[39;00m \u001b[38;5;21;01mkeras\u001b[39;00m \u001b[38;5;28;01mimport\u001b[39;00m models\n",
      "File \u001b[1;32m~\\anaconda3\\lib\\site-packages\\tensorflow\\__init__.py:37\u001b[0m\n\u001b[0;32m     34\u001b[0m \u001b[38;5;28;01mimport\u001b[39;00m \u001b[38;5;21;01msys\u001b[39;00m \u001b[38;5;28;01mas\u001b[39;00m \u001b[38;5;21;01m_sys\u001b[39;00m\n\u001b[0;32m     35\u001b[0m \u001b[38;5;28;01mimport\u001b[39;00m \u001b[38;5;21;01mtyping\u001b[39;00m \u001b[38;5;28;01mas\u001b[39;00m \u001b[38;5;21;01m_typing\u001b[39;00m\n\u001b[1;32m---> 37\u001b[0m \u001b[38;5;28;01mfrom\u001b[39;00m \u001b[38;5;21;01mtensorflow\u001b[39;00m\u001b[38;5;21;01m.\u001b[39;00m\u001b[38;5;21;01mpython\u001b[39;00m\u001b[38;5;21;01m.\u001b[39;00m\u001b[38;5;21;01mtools\u001b[39;00m \u001b[38;5;28;01mimport\u001b[39;00m module_util \u001b[38;5;28;01mas\u001b[39;00m _module_util\n\u001b[0;32m     38\u001b[0m \u001b[38;5;28;01mfrom\u001b[39;00m \u001b[38;5;21;01mtensorflow\u001b[39;00m\u001b[38;5;21;01m.\u001b[39;00m\u001b[38;5;21;01mpython\u001b[39;00m\u001b[38;5;21;01m.\u001b[39;00m\u001b[38;5;21;01mutil\u001b[39;00m\u001b[38;5;21;01m.\u001b[39;00m\u001b[38;5;21;01mlazy_loader\u001b[39;00m \u001b[38;5;28;01mimport\u001b[39;00m LazyLoader \u001b[38;5;28;01mas\u001b[39;00m _LazyLoader\n\u001b[0;32m     40\u001b[0m \u001b[38;5;66;03m# Make sure code inside the TensorFlow codebase can use tf2.enabled() at import.\u001b[39;00m\n",
      "File \u001b[1;32m~\\anaconda3\\lib\\site-packages\\tensorflow\\python\\__init__.py:37\u001b[0m\n\u001b[0;32m     29\u001b[0m \u001b[38;5;66;03m# We aim to keep this file minimal and ideally remove completely.\u001b[39;00m\n\u001b[0;32m     30\u001b[0m \u001b[38;5;66;03m# If you are adding a new file with @tf_export decorators,\u001b[39;00m\n\u001b[0;32m     31\u001b[0m \u001b[38;5;66;03m# import it in modules_with_exports.py instead.\u001b[39;00m\n\u001b[0;32m     32\u001b[0m \n\u001b[0;32m     33\u001b[0m \u001b[38;5;66;03m# go/tf-wildcard-import\u001b[39;00m\n\u001b[0;32m     34\u001b[0m \u001b[38;5;66;03m# pylint: disable=wildcard-import,g-bad-import-order,g-import-not-at-top\u001b[39;00m\n\u001b[0;32m     36\u001b[0m \u001b[38;5;28;01mfrom\u001b[39;00m \u001b[38;5;21;01mtensorflow\u001b[39;00m\u001b[38;5;21;01m.\u001b[39;00m\u001b[38;5;21;01mpython\u001b[39;00m \u001b[38;5;28;01mimport\u001b[39;00m pywrap_tensorflow \u001b[38;5;28;01mas\u001b[39;00m _pywrap_tensorflow\n\u001b[1;32m---> 37\u001b[0m \u001b[38;5;28;01mfrom\u001b[39;00m \u001b[38;5;21;01mtensorflow\u001b[39;00m\u001b[38;5;21;01m.\u001b[39;00m\u001b[38;5;21;01mpython\u001b[39;00m\u001b[38;5;21;01m.\u001b[39;00m\u001b[38;5;21;01meager\u001b[39;00m \u001b[38;5;28;01mimport\u001b[39;00m context\n\u001b[0;32m     39\u001b[0m \u001b[38;5;66;03m# pylint: enable=wildcard-import\u001b[39;00m\n\u001b[0;32m     40\u001b[0m \n\u001b[0;32m     41\u001b[0m \u001b[38;5;66;03m# Bring in subpackages.\u001b[39;00m\n\u001b[0;32m     42\u001b[0m \u001b[38;5;28;01mfrom\u001b[39;00m \u001b[38;5;21;01mtensorflow\u001b[39;00m\u001b[38;5;21;01m.\u001b[39;00m\u001b[38;5;21;01mpython\u001b[39;00m \u001b[38;5;28;01mimport\u001b[39;00m data\n",
      "File \u001b[1;32m~\\anaconda3\\lib\\site-packages\\tensorflow\\python\\eager\\context.py:29\u001b[0m\n\u001b[0;32m     26\u001b[0m \u001b[38;5;28;01mimport\u001b[39;00m \u001b[38;5;21;01mnumpy\u001b[39;00m \u001b[38;5;28;01mas\u001b[39;00m \u001b[38;5;21;01mnp\u001b[39;00m\n\u001b[0;32m     27\u001b[0m \u001b[38;5;28;01mimport\u001b[39;00m \u001b[38;5;21;01msix\u001b[39;00m\n\u001b[1;32m---> 29\u001b[0m \u001b[38;5;28;01mfrom\u001b[39;00m \u001b[38;5;21;01mtensorflow\u001b[39;00m\u001b[38;5;21;01m.\u001b[39;00m\u001b[38;5;21;01mcore\u001b[39;00m\u001b[38;5;21;01m.\u001b[39;00m\u001b[38;5;21;01mframework\u001b[39;00m \u001b[38;5;28;01mimport\u001b[39;00m function_pb2\n\u001b[0;32m     30\u001b[0m \u001b[38;5;28;01mfrom\u001b[39;00m \u001b[38;5;21;01mtensorflow\u001b[39;00m\u001b[38;5;21;01m.\u001b[39;00m\u001b[38;5;21;01mcore\u001b[39;00m\u001b[38;5;21;01m.\u001b[39;00m\u001b[38;5;21;01mprotobuf\u001b[39;00m \u001b[38;5;28;01mimport\u001b[39;00m config_pb2\n\u001b[0;32m     31\u001b[0m \u001b[38;5;28;01mfrom\u001b[39;00m \u001b[38;5;21;01mtensorflow\u001b[39;00m\u001b[38;5;21;01m.\u001b[39;00m\u001b[38;5;21;01mcore\u001b[39;00m\u001b[38;5;21;01m.\u001b[39;00m\u001b[38;5;21;01mprotobuf\u001b[39;00m \u001b[38;5;28;01mimport\u001b[39;00m coordination_config_pb2\n",
      "File \u001b[1;32m~\\anaconda3\\lib\\site-packages\\tensorflow\\core\\framework\\function_pb2.py:16\u001b[0m\n\u001b[0;32m     11\u001b[0m \u001b[38;5;66;03m# @@protoc_insertion_point(imports)\u001b[39;00m\n\u001b[0;32m     13\u001b[0m _sym_db \u001b[38;5;241m=\u001b[39m _symbol_database\u001b[38;5;241m.\u001b[39mDefault()\n\u001b[1;32m---> 16\u001b[0m \u001b[38;5;28;01mfrom\u001b[39;00m \u001b[38;5;21;01mtensorflow\u001b[39;00m\u001b[38;5;21;01m.\u001b[39;00m\u001b[38;5;21;01mcore\u001b[39;00m\u001b[38;5;21;01m.\u001b[39;00m\u001b[38;5;21;01mframework\u001b[39;00m \u001b[38;5;28;01mimport\u001b[39;00m attr_value_pb2 \u001b[38;5;28;01mas\u001b[39;00m tensorflow_dot_core_dot_framework_dot_attr__value__pb2\n\u001b[0;32m     17\u001b[0m \u001b[38;5;28;01mfrom\u001b[39;00m \u001b[38;5;21;01mtensorflow\u001b[39;00m\u001b[38;5;21;01m.\u001b[39;00m\u001b[38;5;21;01mcore\u001b[39;00m\u001b[38;5;21;01m.\u001b[39;00m\u001b[38;5;21;01mframework\u001b[39;00m \u001b[38;5;28;01mimport\u001b[39;00m node_def_pb2 \u001b[38;5;28;01mas\u001b[39;00m tensorflow_dot_core_dot_framework_dot_node__def__pb2\n\u001b[0;32m     18\u001b[0m \u001b[38;5;28;01mfrom\u001b[39;00m \u001b[38;5;21;01mtensorflow\u001b[39;00m\u001b[38;5;21;01m.\u001b[39;00m\u001b[38;5;21;01mcore\u001b[39;00m\u001b[38;5;21;01m.\u001b[39;00m\u001b[38;5;21;01mframework\u001b[39;00m \u001b[38;5;28;01mimport\u001b[39;00m op_def_pb2 \u001b[38;5;28;01mas\u001b[39;00m tensorflow_dot_core_dot_framework_dot_op__def__pb2\n",
      "File \u001b[1;32m~\\anaconda3\\lib\\site-packages\\tensorflow\\core\\framework\\attr_value_pb2.py:16\u001b[0m\n\u001b[0;32m     11\u001b[0m \u001b[38;5;66;03m# @@protoc_insertion_point(imports)\u001b[39;00m\n\u001b[0;32m     13\u001b[0m _sym_db \u001b[38;5;241m=\u001b[39m _symbol_database\u001b[38;5;241m.\u001b[39mDefault()\n\u001b[1;32m---> 16\u001b[0m \u001b[38;5;28;01mfrom\u001b[39;00m \u001b[38;5;21;01mtensorflow\u001b[39;00m\u001b[38;5;21;01m.\u001b[39;00m\u001b[38;5;21;01mcore\u001b[39;00m\u001b[38;5;21;01m.\u001b[39;00m\u001b[38;5;21;01mframework\u001b[39;00m \u001b[38;5;28;01mimport\u001b[39;00m tensor_pb2 \u001b[38;5;28;01mas\u001b[39;00m tensorflow_dot_core_dot_framework_dot_tensor__pb2\n\u001b[0;32m     17\u001b[0m \u001b[38;5;28;01mfrom\u001b[39;00m \u001b[38;5;21;01mtensorflow\u001b[39;00m\u001b[38;5;21;01m.\u001b[39;00m\u001b[38;5;21;01mcore\u001b[39;00m\u001b[38;5;21;01m.\u001b[39;00m\u001b[38;5;21;01mframework\u001b[39;00m \u001b[38;5;28;01mimport\u001b[39;00m tensor_shape_pb2 \u001b[38;5;28;01mas\u001b[39;00m tensorflow_dot_core_dot_framework_dot_tensor__shape__pb2\n\u001b[0;32m     18\u001b[0m \u001b[38;5;28;01mfrom\u001b[39;00m \u001b[38;5;21;01mtensorflow\u001b[39;00m\u001b[38;5;21;01m.\u001b[39;00m\u001b[38;5;21;01mcore\u001b[39;00m\u001b[38;5;21;01m.\u001b[39;00m\u001b[38;5;21;01mframework\u001b[39;00m \u001b[38;5;28;01mimport\u001b[39;00m types_pb2 \u001b[38;5;28;01mas\u001b[39;00m tensorflow_dot_core_dot_framework_dot_types__pb2\n",
      "File \u001b[1;32m~\\anaconda3\\lib\\site-packages\\tensorflow\\core\\framework\\tensor_pb2.py:16\u001b[0m\n\u001b[0;32m     11\u001b[0m \u001b[38;5;66;03m# @@protoc_insertion_point(imports)\u001b[39;00m\n\u001b[0;32m     13\u001b[0m _sym_db \u001b[38;5;241m=\u001b[39m _symbol_database\u001b[38;5;241m.\u001b[39mDefault()\n\u001b[1;32m---> 16\u001b[0m \u001b[38;5;28;01mfrom\u001b[39;00m \u001b[38;5;21;01mtensorflow\u001b[39;00m\u001b[38;5;21;01m.\u001b[39;00m\u001b[38;5;21;01mcore\u001b[39;00m\u001b[38;5;21;01m.\u001b[39;00m\u001b[38;5;21;01mframework\u001b[39;00m \u001b[38;5;28;01mimport\u001b[39;00m resource_handle_pb2 \u001b[38;5;28;01mas\u001b[39;00m tensorflow_dot_core_dot_framework_dot_resource__handle__pb2\n\u001b[0;32m     17\u001b[0m \u001b[38;5;28;01mfrom\u001b[39;00m \u001b[38;5;21;01mtensorflow\u001b[39;00m\u001b[38;5;21;01m.\u001b[39;00m\u001b[38;5;21;01mcore\u001b[39;00m\u001b[38;5;21;01m.\u001b[39;00m\u001b[38;5;21;01mframework\u001b[39;00m \u001b[38;5;28;01mimport\u001b[39;00m tensor_shape_pb2 \u001b[38;5;28;01mas\u001b[39;00m tensorflow_dot_core_dot_framework_dot_tensor__shape__pb2\n\u001b[0;32m     18\u001b[0m \u001b[38;5;28;01mfrom\u001b[39;00m \u001b[38;5;21;01mtensorflow\u001b[39;00m\u001b[38;5;21;01m.\u001b[39;00m\u001b[38;5;21;01mcore\u001b[39;00m\u001b[38;5;21;01m.\u001b[39;00m\u001b[38;5;21;01mframework\u001b[39;00m \u001b[38;5;28;01mimport\u001b[39;00m types_pb2 \u001b[38;5;28;01mas\u001b[39;00m tensorflow_dot_core_dot_framework_dot_types__pb2\n",
      "File \u001b[1;32m~\\anaconda3\\lib\\site-packages\\tensorflow\\core\\framework\\resource_handle_pb2.py:16\u001b[0m\n\u001b[0;32m     11\u001b[0m \u001b[38;5;66;03m# @@protoc_insertion_point(imports)\u001b[39;00m\n\u001b[0;32m     13\u001b[0m _sym_db \u001b[38;5;241m=\u001b[39m _symbol_database\u001b[38;5;241m.\u001b[39mDefault()\n\u001b[1;32m---> 16\u001b[0m \u001b[38;5;28;01mfrom\u001b[39;00m \u001b[38;5;21;01mtensorflow\u001b[39;00m\u001b[38;5;21;01m.\u001b[39;00m\u001b[38;5;21;01mcore\u001b[39;00m\u001b[38;5;21;01m.\u001b[39;00m\u001b[38;5;21;01mframework\u001b[39;00m \u001b[38;5;28;01mimport\u001b[39;00m tensor_shape_pb2 \u001b[38;5;28;01mas\u001b[39;00m tensorflow_dot_core_dot_framework_dot_tensor__shape__pb2\n\u001b[0;32m     17\u001b[0m \u001b[38;5;28;01mfrom\u001b[39;00m \u001b[38;5;21;01mtensorflow\u001b[39;00m\u001b[38;5;21;01m.\u001b[39;00m\u001b[38;5;21;01mcore\u001b[39;00m\u001b[38;5;21;01m.\u001b[39;00m\u001b[38;5;21;01mframework\u001b[39;00m \u001b[38;5;28;01mimport\u001b[39;00m types_pb2 \u001b[38;5;28;01mas\u001b[39;00m tensorflow_dot_core_dot_framework_dot_types__pb2\n\u001b[0;32m     20\u001b[0m DESCRIPTOR \u001b[38;5;241m=\u001b[39m _descriptor\u001b[38;5;241m.\u001b[39mFileDescriptor(\n\u001b[0;32m     21\u001b[0m   name\u001b[38;5;241m=\u001b[39m\u001b[38;5;124m'\u001b[39m\u001b[38;5;124mtensorflow/core/framework/resource_handle.proto\u001b[39m\u001b[38;5;124m'\u001b[39m,\n\u001b[0;32m     22\u001b[0m   package\u001b[38;5;241m=\u001b[39m\u001b[38;5;124m'\u001b[39m\u001b[38;5;124mtensorflow\u001b[39m\u001b[38;5;124m'\u001b[39m,\n\u001b[1;32m   (...)\u001b[0m\n\u001b[0;32m     26\u001b[0m   ,\n\u001b[0;32m     27\u001b[0m   dependencies\u001b[38;5;241m=\u001b[39m[tensorflow_dot_core_dot_framework_dot_tensor__shape__pb2\u001b[38;5;241m.\u001b[39mDESCRIPTOR,tensorflow_dot_core_dot_framework_dot_types__pb2\u001b[38;5;241m.\u001b[39mDESCRIPTOR,])\n",
      "File \u001b[1;32m~\\anaconda3\\lib\\site-packages\\tensorflow\\core\\framework\\tensor_shape_pb2.py:36\u001b[0m\n\u001b[0;32m     13\u001b[0m _sym_db \u001b[38;5;241m=\u001b[39m _symbol_database\u001b[38;5;241m.\u001b[39mDefault()\n\u001b[0;32m     18\u001b[0m DESCRIPTOR \u001b[38;5;241m=\u001b[39m _descriptor\u001b[38;5;241m.\u001b[39mFileDescriptor(\n\u001b[0;32m     19\u001b[0m   name\u001b[38;5;241m=\u001b[39m\u001b[38;5;124m'\u001b[39m\u001b[38;5;124mtensorflow/core/framework/tensor_shape.proto\u001b[39m\u001b[38;5;124m'\u001b[39m,\n\u001b[0;32m     20\u001b[0m   package\u001b[38;5;241m=\u001b[39m\u001b[38;5;124m'\u001b[39m\u001b[38;5;124mtensorflow\u001b[39m\u001b[38;5;124m'\u001b[39m,\n\u001b[1;32m   (...)\u001b[0m\n\u001b[0;32m     23\u001b[0m   serialized_pb\u001b[38;5;241m=\u001b[39m_b(\u001b[38;5;124m'\u001b[39m\u001b[38;5;130;01m\\n\u001b[39;00m\u001b[38;5;124m,tensorflow/core/framework/tensor_shape.proto\u001b[39m\u001b[38;5;130;01m\\x12\u001b[39;00m\u001b[38;5;130;01m\\n\u001b[39;00m\u001b[38;5;124mtensorflow\u001b[39m\u001b[38;5;130;01m\\\"\u001b[39;00m\u001b[38;5;124mz\u001b[39m\u001b[38;5;130;01m\\n\u001b[39;00m\u001b[38;5;130;01m\\x10\u001b[39;00m\u001b[38;5;124mTensorShapeProto\u001b[39m\u001b[38;5;130;01m\\x12\u001b[39;00m\u001b[38;5;124m-\u001b[39m\u001b[38;5;130;01m\\n\u001b[39;00m\u001b[38;5;130;01m\\x03\u001b[39;00m\u001b[38;5;130;01m\\x64\u001b[39;00m\u001b[38;5;124mim\u001b[39m\u001b[38;5;130;01m\\x18\u001b[39;00m\u001b[38;5;130;01m\\x02\u001b[39;00m\u001b[38;5;124m \u001b[39m\u001b[38;5;130;01m\\x03\u001b[39;00m\u001b[38;5;124m(\u001b[39m\u001b[38;5;130;01m\\x0b\u001b[39;00m\u001b[38;5;130;01m\\x32\u001b[39;00m\u001b[38;5;124m .tensorflow.TensorShapeProto.Dim\u001b[39m\u001b[38;5;130;01m\\x12\u001b[39;00m\u001b[38;5;130;01m\\x14\u001b[39;00m\u001b[38;5;130;01m\\n\u001b[39;00m\u001b[38;5;130;01m\\x0c\u001b[39;00m\u001b[38;5;124munknown_rank\u001b[39m\u001b[38;5;130;01m\\x18\u001b[39;00m\u001b[38;5;130;01m\\x03\u001b[39;00m\u001b[38;5;124m \u001b[39m\u001b[38;5;130;01m\\x01\u001b[39;00m\u001b[38;5;124m(\u001b[39m\u001b[38;5;130;01m\\x08\u001b[39;00m\u001b[38;5;130;01m\\x1a\u001b[39;00m\u001b[38;5;124m!\u001b[39m\u001b[38;5;130;01m\\n\u001b[39;00m\u001b[38;5;130;01m\\x03\u001b[39;00m\u001b[38;5;130;01m\\x44\u001b[39;00m\u001b[38;5;124mim\u001b[39m\u001b[38;5;130;01m\\x12\u001b[39;00m\u001b[38;5;130;01m\\x0c\u001b[39;00m\u001b[38;5;130;01m\\n\u001b[39;00m\u001b[38;5;130;01m\\x04\u001b[39;00m\u001b[38;5;124msize\u001b[39m\u001b[38;5;130;01m\\x18\u001b[39;00m\u001b[38;5;130;01m\\x01\u001b[39;00m\u001b[38;5;124m \u001b[39m\u001b[38;5;130;01m\\x01\u001b[39;00m\u001b[38;5;124m(\u001b[39m\u001b[38;5;130;01m\\x03\u001b[39;00m\u001b[38;5;130;01m\\x12\u001b[39;00m\u001b[38;5;130;01m\\x0c\u001b[39;00m\u001b[38;5;130;01m\\n\u001b[39;00m\u001b[38;5;130;01m\\x04\u001b[39;00m\u001b[38;5;124mname\u001b[39m\u001b[38;5;130;01m\\x18\u001b[39;00m\u001b[38;5;130;01m\\x02\u001b[39;00m\u001b[38;5;124m \u001b[39m\u001b[38;5;130;01m\\x01\u001b[39;00m\u001b[38;5;124m(\u001b[39m\u001b[38;5;130;01m\\t\u001b[39;00m\u001b[38;5;124mB\u001b[39m\u001b[38;5;130;01m\\x87\u001b[39;00m\u001b[38;5;130;01m\\x01\u001b[39;00m\u001b[38;5;130;01m\\n\u001b[39;00m\u001b[38;5;130;01m\\x18\u001b[39;00m\u001b[38;5;124morg.tensorflow.frameworkB\u001b[39m\u001b[38;5;130;01m\\x11\u001b[39;00m\u001b[38;5;124mTensorShapeProtosP\u001b[39m\u001b[38;5;130;01m\\x01\u001b[39;00m\u001b[38;5;124mZSgithub.com/tensorflow/tensorflow/tensorflow/go/core/framework/tensor_shape_go_proto\u001b[39m\u001b[38;5;130;01m\\xf8\u001b[39;00m\u001b[38;5;130;01m\\x01\u001b[39;00m\u001b[38;5;130;01m\\x01\u001b[39;00m\u001b[38;5;130;01m\\x62\u001b[39;00m\u001b[38;5;130;01m\\x06\u001b[39;00m\u001b[38;5;124mproto3\u001b[39m\u001b[38;5;124m'\u001b[39m)\n\u001b[0;32m     24\u001b[0m )\n\u001b[0;32m     29\u001b[0m _TENSORSHAPEPROTO_DIM \u001b[38;5;241m=\u001b[39m _descriptor\u001b[38;5;241m.\u001b[39mDescriptor(\n\u001b[0;32m     30\u001b[0m   name\u001b[38;5;241m=\u001b[39m\u001b[38;5;124m'\u001b[39m\u001b[38;5;124mDim\u001b[39m\u001b[38;5;124m'\u001b[39m,\n\u001b[0;32m     31\u001b[0m   full_name\u001b[38;5;241m=\u001b[39m\u001b[38;5;124m'\u001b[39m\u001b[38;5;124mtensorflow.TensorShapeProto.Dim\u001b[39m\u001b[38;5;124m'\u001b[39m,\n\u001b[0;32m     32\u001b[0m   filename\u001b[38;5;241m=\u001b[39m\u001b[38;5;28;01mNone\u001b[39;00m,\n\u001b[0;32m     33\u001b[0m   file\u001b[38;5;241m=\u001b[39mDESCRIPTOR,\n\u001b[0;32m     34\u001b[0m   containing_type\u001b[38;5;241m=\u001b[39m\u001b[38;5;28;01mNone\u001b[39;00m,\n\u001b[0;32m     35\u001b[0m   fields\u001b[38;5;241m=\u001b[39m[\n\u001b[1;32m---> 36\u001b[0m     \u001b[43m_descriptor\u001b[49m\u001b[38;5;241;43m.\u001b[39;49m\u001b[43mFieldDescriptor\u001b[49m\u001b[43m(\u001b[49m\n\u001b[0;32m     37\u001b[0m \u001b[43m      \u001b[49m\u001b[43mname\u001b[49m\u001b[38;5;241;43m=\u001b[39;49m\u001b[38;5;124;43m'\u001b[39;49m\u001b[38;5;124;43msize\u001b[39;49m\u001b[38;5;124;43m'\u001b[39;49m\u001b[43m,\u001b[49m\u001b[43m \u001b[49m\u001b[43mfull_name\u001b[49m\u001b[38;5;241;43m=\u001b[39;49m\u001b[38;5;124;43m'\u001b[39;49m\u001b[38;5;124;43mtensorflow.TensorShapeProto.Dim.size\u001b[39;49m\u001b[38;5;124;43m'\u001b[39;49m\u001b[43m,\u001b[49m\u001b[43m \u001b[49m\u001b[43mindex\u001b[49m\u001b[38;5;241;43m=\u001b[39;49m\u001b[38;5;241;43m0\u001b[39;49m\u001b[43m,\u001b[49m\n\u001b[0;32m     38\u001b[0m \u001b[43m      \u001b[49m\u001b[43mnumber\u001b[49m\u001b[38;5;241;43m=\u001b[39;49m\u001b[38;5;241;43m1\u001b[39;49m\u001b[43m,\u001b[49m\u001b[43m \u001b[49m\u001b[38;5;28;43mtype\u001b[39;49m\u001b[38;5;241;43m=\u001b[39;49m\u001b[38;5;241;43m3\u001b[39;49m\u001b[43m,\u001b[49m\u001b[43m \u001b[49m\u001b[43mcpp_type\u001b[49m\u001b[38;5;241;43m=\u001b[39;49m\u001b[38;5;241;43m2\u001b[39;49m\u001b[43m,\u001b[49m\u001b[43m \u001b[49m\u001b[43mlabel\u001b[49m\u001b[38;5;241;43m=\u001b[39;49m\u001b[38;5;241;43m1\u001b[39;49m\u001b[43m,\u001b[49m\n\u001b[0;32m     39\u001b[0m \u001b[43m      \u001b[49m\u001b[43mhas_default_value\u001b[49m\u001b[38;5;241;43m=\u001b[39;49m\u001b[38;5;28;43;01mFalse\u001b[39;49;00m\u001b[43m,\u001b[49m\u001b[43m \u001b[49m\u001b[43mdefault_value\u001b[49m\u001b[38;5;241;43m=\u001b[39;49m\u001b[38;5;241;43m0\u001b[39;49m\u001b[43m,\u001b[49m\n\u001b[0;32m     40\u001b[0m \u001b[43m      \u001b[49m\u001b[43mmessage_type\u001b[49m\u001b[38;5;241;43m=\u001b[39;49m\u001b[38;5;28;43;01mNone\u001b[39;49;00m\u001b[43m,\u001b[49m\u001b[43m \u001b[49m\u001b[43menum_type\u001b[49m\u001b[38;5;241;43m=\u001b[39;49m\u001b[38;5;28;43;01mNone\u001b[39;49;00m\u001b[43m,\u001b[49m\u001b[43m \u001b[49m\u001b[43mcontaining_type\u001b[49m\u001b[38;5;241;43m=\u001b[39;49m\u001b[38;5;28;43;01mNone\u001b[39;49;00m\u001b[43m,\u001b[49m\n\u001b[0;32m     41\u001b[0m \u001b[43m      \u001b[49m\u001b[43mis_extension\u001b[49m\u001b[38;5;241;43m=\u001b[39;49m\u001b[38;5;28;43;01mFalse\u001b[39;49;00m\u001b[43m,\u001b[49m\u001b[43m \u001b[49m\u001b[43mextension_scope\u001b[49m\u001b[38;5;241;43m=\u001b[39;49m\u001b[38;5;28;43;01mNone\u001b[39;49;00m\u001b[43m,\u001b[49m\n\u001b[0;32m     42\u001b[0m \u001b[43m      \u001b[49m\u001b[43mserialized_options\u001b[49m\u001b[38;5;241;43m=\u001b[39;49m\u001b[38;5;28;43;01mNone\u001b[39;49;00m\u001b[43m,\u001b[49m\u001b[43m \u001b[49m\u001b[43mfile\u001b[49m\u001b[38;5;241;43m=\u001b[39;49m\u001b[43mDESCRIPTOR\u001b[49m\u001b[43m)\u001b[49m,\n\u001b[0;32m     43\u001b[0m     _descriptor\u001b[38;5;241m.\u001b[39mFieldDescriptor(\n\u001b[0;32m     44\u001b[0m       name\u001b[38;5;241m=\u001b[39m\u001b[38;5;124m'\u001b[39m\u001b[38;5;124mname\u001b[39m\u001b[38;5;124m'\u001b[39m, full_name\u001b[38;5;241m=\u001b[39m\u001b[38;5;124m'\u001b[39m\u001b[38;5;124mtensorflow.TensorShapeProto.Dim.name\u001b[39m\u001b[38;5;124m'\u001b[39m, index\u001b[38;5;241m=\u001b[39m\u001b[38;5;241m1\u001b[39m,\n\u001b[0;32m     45\u001b[0m       number\u001b[38;5;241m=\u001b[39m\u001b[38;5;241m2\u001b[39m, \u001b[38;5;28mtype\u001b[39m\u001b[38;5;241m=\u001b[39m\u001b[38;5;241m9\u001b[39m, cpp_type\u001b[38;5;241m=\u001b[39m\u001b[38;5;241m9\u001b[39m, label\u001b[38;5;241m=\u001b[39m\u001b[38;5;241m1\u001b[39m,\n\u001b[0;32m     46\u001b[0m       has_default_value\u001b[38;5;241m=\u001b[39m\u001b[38;5;28;01mFalse\u001b[39;00m, default_value\u001b[38;5;241m=\u001b[39m_b(\u001b[38;5;124m\"\u001b[39m\u001b[38;5;124m\"\u001b[39m)\u001b[38;5;241m.\u001b[39mdecode(\u001b[38;5;124m'\u001b[39m\u001b[38;5;124mutf-8\u001b[39m\u001b[38;5;124m'\u001b[39m),\n\u001b[0;32m     47\u001b[0m       message_type\u001b[38;5;241m=\u001b[39m\u001b[38;5;28;01mNone\u001b[39;00m, enum_type\u001b[38;5;241m=\u001b[39m\u001b[38;5;28;01mNone\u001b[39;00m, containing_type\u001b[38;5;241m=\u001b[39m\u001b[38;5;28;01mNone\u001b[39;00m,\n\u001b[0;32m     48\u001b[0m       is_extension\u001b[38;5;241m=\u001b[39m\u001b[38;5;28;01mFalse\u001b[39;00m, extension_scope\u001b[38;5;241m=\u001b[39m\u001b[38;5;28;01mNone\u001b[39;00m,\n\u001b[0;32m     49\u001b[0m       serialized_options\u001b[38;5;241m=\u001b[39m\u001b[38;5;28;01mNone\u001b[39;00m, file\u001b[38;5;241m=\u001b[39mDESCRIPTOR),\n\u001b[0;32m     50\u001b[0m   ],\n\u001b[0;32m     51\u001b[0m   extensions\u001b[38;5;241m=\u001b[39m[\n\u001b[0;32m     52\u001b[0m   ],\n\u001b[0;32m     53\u001b[0m   nested_types\u001b[38;5;241m=\u001b[39m[],\n\u001b[0;32m     54\u001b[0m   enum_types\u001b[38;5;241m=\u001b[39m[\n\u001b[0;32m     55\u001b[0m   ],\n\u001b[0;32m     56\u001b[0m   serialized_options\u001b[38;5;241m=\u001b[39m\u001b[38;5;28;01mNone\u001b[39;00m,\n\u001b[0;32m     57\u001b[0m   is_extendable\u001b[38;5;241m=\u001b[39m\u001b[38;5;28;01mFalse\u001b[39;00m,\n\u001b[0;32m     58\u001b[0m   syntax\u001b[38;5;241m=\u001b[39m\u001b[38;5;124m'\u001b[39m\u001b[38;5;124mproto3\u001b[39m\u001b[38;5;124m'\u001b[39m,\n\u001b[0;32m     59\u001b[0m   extension_ranges\u001b[38;5;241m=\u001b[39m[],\n\u001b[0;32m     60\u001b[0m   oneofs\u001b[38;5;241m=\u001b[39m[\n\u001b[0;32m     61\u001b[0m   ],\n\u001b[0;32m     62\u001b[0m   serialized_start\u001b[38;5;241m=\u001b[39m\u001b[38;5;241m149\u001b[39m,\n\u001b[0;32m     63\u001b[0m   serialized_end\u001b[38;5;241m=\u001b[39m\u001b[38;5;241m182\u001b[39m,\n\u001b[0;32m     64\u001b[0m )\n\u001b[0;32m     66\u001b[0m _TENSORSHAPEPROTO \u001b[38;5;241m=\u001b[39m _descriptor\u001b[38;5;241m.\u001b[39mDescriptor(\n\u001b[0;32m     67\u001b[0m   name\u001b[38;5;241m=\u001b[39m\u001b[38;5;124m'\u001b[39m\u001b[38;5;124mTensorShapeProto\u001b[39m\u001b[38;5;124m'\u001b[39m,\n\u001b[0;32m     68\u001b[0m   full_name\u001b[38;5;241m=\u001b[39m\u001b[38;5;124m'\u001b[39m\u001b[38;5;124mtensorflow.TensorShapeProto\u001b[39m\u001b[38;5;124m'\u001b[39m,\n\u001b[1;32m   (...)\u001b[0m\n\u001b[0;32m    100\u001b[0m   serialized_end\u001b[38;5;241m=\u001b[39m\u001b[38;5;241m182\u001b[39m,\n\u001b[0;32m    101\u001b[0m )\n\u001b[0;32m    103\u001b[0m _TENSORSHAPEPROTO_DIM\u001b[38;5;241m.\u001b[39mcontaining_type \u001b[38;5;241m=\u001b[39m _TENSORSHAPEPROTO\n",
      "File \u001b[1;32m~\\anaconda3\\lib\\site-packages\\google\\protobuf\\descriptor.py:561\u001b[0m, in \u001b[0;36mFieldDescriptor.__new__\u001b[1;34m(cls, name, full_name, index, number, type, cpp_type, label, default_value, message_type, enum_type, containing_type, is_extension, extension_scope, options, serialized_options, has_default_value, containing_oneof, json_name, file, create_key)\u001b[0m\n\u001b[0;32m    555\u001b[0m \u001b[38;5;28;01mdef\u001b[39;00m \u001b[38;5;21m__new__\u001b[39m(\u001b[38;5;28mcls\u001b[39m, name, full_name, index, number, \u001b[38;5;28mtype\u001b[39m, cpp_type, label,\n\u001b[0;32m    556\u001b[0m             default_value, message_type, enum_type, containing_type,\n\u001b[0;32m    557\u001b[0m             is_extension, extension_scope, options\u001b[38;5;241m=\u001b[39m\u001b[38;5;28;01mNone\u001b[39;00m,\n\u001b[0;32m    558\u001b[0m             serialized_options\u001b[38;5;241m=\u001b[39m\u001b[38;5;28;01mNone\u001b[39;00m,\n\u001b[0;32m    559\u001b[0m             has_default_value\u001b[38;5;241m=\u001b[39m\u001b[38;5;28;01mTrue\u001b[39;00m, containing_oneof\u001b[38;5;241m=\u001b[39m\u001b[38;5;28;01mNone\u001b[39;00m, json_name\u001b[38;5;241m=\u001b[39m\u001b[38;5;28;01mNone\u001b[39;00m,\n\u001b[0;32m    560\u001b[0m             file\u001b[38;5;241m=\u001b[39m\u001b[38;5;28;01mNone\u001b[39;00m, create_key\u001b[38;5;241m=\u001b[39m\u001b[38;5;28;01mNone\u001b[39;00m):  \u001b[38;5;66;03m# pylint: disable=redefined-builtin\u001b[39;00m\n\u001b[1;32m--> 561\u001b[0m   \u001b[43m_message\u001b[49m\u001b[38;5;241;43m.\u001b[39;49m\u001b[43mMessage\u001b[49m\u001b[38;5;241;43m.\u001b[39;49m\u001b[43m_CheckCalledFromGeneratedFile\u001b[49m\u001b[43m(\u001b[49m\u001b[43m)\u001b[49m\n\u001b[0;32m    562\u001b[0m   \u001b[38;5;28;01mif\u001b[39;00m is_extension:\n\u001b[0;32m    563\u001b[0m     \u001b[38;5;28;01mreturn\u001b[39;00m _message\u001b[38;5;241m.\u001b[39mdefault_pool\u001b[38;5;241m.\u001b[39mFindExtensionByName(full_name)\n",
      "\u001b[1;31mTypeError\u001b[0m: Descriptors cannot not be created directly.\nIf this call came from a _pb2.py file, your generated code is out of date and must be regenerated with protoc >= 3.19.0.\nIf you cannot immediately regenerate your protos, some other possible workarounds are:\n 1. Downgrade the protobuf package to 3.20.x or lower.\n 2. Set PROTOCOL_BUFFERS_PYTHON_IMPLEMENTATION=python (but this will use pure-Python parsing and will be much slower).\n\nMore information: https://developers.google.com/protocol-buffers/docs/news/2022-05-06#python-updates"
     ]
    }
   ],
   "source": [
    "from keras.layers.convolutional import Conv3D, ZeroPadding3D\n",
    "from keras.layers.pooling import MaxPooling3D\n",
    "from keras.layers.core import Dense, Activation, Dropout, Flatten, SpatialDropout3D\n",
    "from keras.layers import Bidirectional, TimeDistributed\n",
    "from keras.layers import BatchNormalization\n",
    "#from keras.layers.recurrent import GRU\n",
    "from keras.layers import GRU\n",
    "from keras.layers import Input\n",
    "from keras.models import Model\n",
    "from keras import backend as K\n",
    "from keras.layers.core import Lambda\n",
    "from keras import backend as K\n",
    "import tensorflow as tf"
   ]
  },
  {
   "cell_type": "code",
   "execution_count": 3,
   "id": "a64cd975",
   "metadata": {},
   "outputs": [],
   "source": [
    "import numpy as np"
   ]
  },
  {
   "cell_type": "code",
   "execution_count": 4,
   "id": "5d9bb501",
   "metadata": {},
   "outputs": [],
   "source": [
    "x_data = np.load('train/x_data.npy') \n",
    "y_data = np.load('train/y_data.npy')"
   ]
  },
  {
   "cell_type": "code",
   "execution_count": 5,
   "id": "4863ccfa",
   "metadata": {},
   "outputs": [
    {
     "name": "stdout",
     "output_type": "stream",
     "text": [
      "(540, 5, 100, 200, 3) (540, 13)\n"
     ]
    }
   ],
   "source": [
    "print(x_data.shape, y_data.shape)"
   ]
  },
  {
   "cell_type": "code",
   "execution_count": 6,
   "id": "a4a49220",
   "metadata": {
    "scrolled": true
   },
   "outputs": [
    {
     "name": "stdout",
     "output_type": "stream",
     "text": [
      "(None, 5, 100, 200, 3)\n",
      "(None, 7, 104, 204, 3)\n",
      "(None, 5, 50, 100, 32)\n",
      "(None, 5, 25, 50, 32)\n",
      "(None, 5, 25, 50, 32)\n",
      "=====================================================\n",
      "(None, 7, 29, 54, 32)\n",
      "(None, 5, 25, 50, 64)\n",
      "(None, 5, 12, 25, 64)\n",
      "(None, 5, 12, 25, 64)\n",
      "=====================================================\n",
      "(None, 7, 14, 27, 64)\n",
      "(None, 5, 12, 25, 96)\n",
      "(None, 5, 6, 12, 96)\n",
      "(None, 5, 6, 12, 96)\n",
      "=====================================================\n",
      "(None, 5, 6912)\n",
      "=====================================================\n",
      "(None, 5, 512)\n",
      "(None, 512)\n",
      "=====================================================\n",
      "(None, 13)\n",
      "=====================================================\n",
      "(None, 13)\n"
     ]
    }
   ],
   "source": [
    "input_shape = (5, 100, 200, 3)\n",
    "output_size = 13\n",
    "x = Input(name = 'the_input', shape = input_shape, dtype = 'float32')\n",
    "print(x.shape)\n",
    "x = ZeroPadding3D(padding = (1,2,2), name = 'zero1')(x)\n",
    "print(x.shape)\n",
    "x = Conv3D(32, (3,5,5), strides = (1,2,2), activation = 'relu', kernel_initializer = 'he_normal', name = 'conv1')(x)\n",
    "print(x.shape)\n",
    "x = MaxPooling3D(pool_size=(1, 2, 2), strides=(1, 2, 2), name='max1')(x)\n",
    "print(x.shape)\n",
    "x = Dropout(0.5)(x)\n",
    "print(x.shape)\n",
    "print(\"=====================================================\")\n",
    "x = ZeroPadding3D(padding=(1, 2, 2), name='zero2')(x)\n",
    "print(x.shape)\n",
    "x = Conv3D(64, (3, 5, 5), strides=(1, 1, 1), activation='relu', kernel_initializer='he_normal', name='conv2')(x)\n",
    "print(x.shape)\n",
    "x = MaxPooling3D(pool_size=(1, 2, 2), strides=(1, 2, 2), name='max2')(x)\n",
    "print(x.shape)\n",
    "x = Dropout(0.5)(x)\n",
    "print(x.shape)\n",
    "print(\"=====================================================\")\n",
    "x = ZeroPadding3D(padding=(1, 1, 1), name='zero3')(x)\n",
    "print(x.shape)\n",
    "x = Conv3D(96, (3, 3, 3), strides=(1, 1, 1), activation='relu', kernel_initializer='he_normal', name='conv3')(x)\n",
    "print(x.shape)\n",
    "x = MaxPooling3D(pool_size=(1, 2, 2), strides=(1, 2, 2), name='max3')(x)\n",
    "print(x.shape)\n",
    "x = Dropout(0.5)(x)\n",
    "print(x.shape) # (BN, 5, 6, 12, 96)\n",
    "print(\"=====================================================\")\n",
    "x = TimeDistributed(Flatten())(x)\n",
    "print(x.shape) # (BN, 5, 6912)\n",
    "print(\"=====================================================\")\n",
    "x = Bidirectional(GRU(256, return_sequences=True, kernel_initializer='Orthogonal', name='gru1'), merge_mode='concat')(x)\n",
    "print(x.shape)\n",
    "x = Bidirectional(GRU(256, return_sequences=False, kernel_initializer='Orthogonal', name='gru2'), merge_mode='concat')(x)\n",
    "print(x.shape)\n",
    "print(\"=====================================================\")\n",
    "x = Dense(output_size, kernel_initializer='he_normal', name='dense1')(x)\n",
    "print(x.shape)\n",
    "print(\"=====================================================\")\n",
    "y_pred = Activation('softmax', name='softmax')(x)\n",
    "print(y_pred.shape)"
   ]
  },
  {
   "cell_type": "code",
   "execution_count": 7,
   "id": "b0a29f53",
   "metadata": {},
   "outputs": [],
   "source": [
    "class Decoder(object):\n",
    "    def __init__(self, greedy=True, beam_width=100, top_paths=1, **kwargs):\n",
    "        self.greedy         = greedy\n",
    "        self.beam_width     = beam_width\n",
    "        self.top_paths      = top_paths\n",
    "        self.language_model = kwargs.get('language_model', None)\n",
    "        self.postprocessors = kwargs.get('postprocessors', [])\n",
    "\n",
    "    def decode(self, y_pred, input_length):\n",
    "        decoded = decode(y_pred, input_length, greedy=self.greedy, beam_width=self.beam_width,\n",
    "                         top_paths=self.top_paths, language_model=self.language_model)\n",
    "        preprocessed = []\n",
    "        for output in decoded:\n",
    "            out = output\n",
    "            for postprocessor in self.postprocessors:\n",
    "                out = postprocessor(out)\n",
    "            preprocessed.append(out)\n",
    "\n",
    "        return preprocessed\n",
    "    \n",
    "def decode(y_pred, input_length, greedy=True, beam_width=100, top_paths=1, **kwargs):\n",
    "    language_model = kwargs.get('language_model', None)\n",
    "\n",
    "    paths, logprobs = _decode(y_pred=y_pred, input_length=input_length,\n",
    "                              greedy=greedy, beam_width=beam_width, top_paths=top_paths)\n",
    "    if language_model is not None:\n",
    "        # TODO: compute using language model\n",
    "        raise NotImplementedError(\"Language model search is not implemented yet\")\n",
    "    else:\n",
    "        # simply output highest probability sequence\n",
    "        # paths has been sorted from the start\n",
    "        result = paths[0]\n",
    "    return result"
   ]
  },
  {
   "cell_type": "code",
   "execution_count": 8,
   "id": "9c68de41",
   "metadata": {},
   "outputs": [],
   "source": [
    "from keras.layers.core import Lambda\n",
    "from keras import backend as K\n",
    "\n",
    "# Actual loss calculation\n",
    "def ctc_lambda_func(args):\n",
    "    y_pred, labels, input_length, label_length = args\n",
    "    # From Keras example image_ocr.py:\n",
    "    # the 2 is critical here since the first couple outputs of the RNN\n",
    "    # tend to be garbage:\n",
    "    # y_pred = y_pred[:, 2:, :]\n",
    "    y_pred = y_pred[:, :, :]\n",
    "    return K.ctc_batch_cost(labels, y_pred, input_length, label_length)\n",
    "\n",
    "def CTC(name, args):\n",
    "    return Lambda(ctc_lambda_func, output_shape=(1,), name=name)(args)"
   ]
  },
  {
   "cell_type": "code",
   "execution_count": 9,
   "id": "5644facd",
   "metadata": {},
   "outputs": [],
   "source": [
    "class LipNet(object):\n",
    "    def __init__(self, img_c, img_w, img_h, frames_n, output_size):\n",
    "        self.img_c = img_c\n",
    "        self.img_w = img_w\n",
    "        self.img_h = img_h\n",
    "        self.frames_n = frames_n\n",
    "        self.output_size = output_size\n",
    "        self.build()\n",
    "        \n",
    "    def build(self):\n",
    "        input_shape = (self.frames_n, self.img_w, self.img_h, self.img_c)\n",
    "        #if K.image_data_format() == 'channels_first':\n",
    "            #input_shape = (self.img_c, self.frames_n, self.img_w, self.img_h)\n",
    "        #else:\n",
    "            #input_shape = (self.frames_n, self.img_w, self.img_h, self.img_c)\n",
    "        \n",
    "        self.input_data = Input(name = 'the_input', shape = (5, 100, 200, 3), dtype = 'float32')\n",
    "        self.zero1 = ZeroPadding3D(padding=(1, 2, 2), name='zero1')(self.input_data)\n",
    "        self.conv1 = Conv3D(32, (3, 5, 5), strides=(1, 2, 2), kernel_initializer='he_normal', name='conv1')(self.zero1)\n",
    "        self.batc1 = BatchNormalization(name='batc1')(self.conv1)\n",
    "        self.actv1 = Activation('relu', name='actv1')(self.batc1)\n",
    "        self.drop1 = SpatialDropout3D(0.5)(self.actv1)\n",
    "        self.maxp1 = MaxPooling3D(pool_size=(1, 2, 2), strides=(1, 2, 2), name='max1')(self.drop1)\n",
    "\n",
    "        self.zero2 = ZeroPadding3D(padding=(1, 2, 2), name='zero2')(self.maxp1)\n",
    "        self.conv2 = Conv3D(64, (3, 5, 5), strides=(1, 1, 1), kernel_initializer='he_normal', name='conv2')(self.zero2)\n",
    "        self.batc2 = BatchNormalization(name='batc2')(self.conv2)\n",
    "        self.actv2 = Activation('relu', name='actv2')(self.batc2)\n",
    "        self.drop2 = SpatialDropout3D(0.5)(self.actv2)\n",
    "        self.maxp2 = MaxPooling3D(pool_size=(1, 2, 2), strides=(1, 2, 2), name='max2')(self.drop2)\n",
    "\n",
    "        self.zero3 = ZeroPadding3D(padding=(1, 1, 1), name='zero3')(self.maxp2)\n",
    "        self.conv3 = Conv3D(96, (3, 3, 3), strides=(1, 1, 1), kernel_initializer='he_normal', name='conv3')(self.zero3)\n",
    "        self.batc3 = BatchNormalization(name='batc3')(self.conv3)\n",
    "        self.actv3 = Activation('relu', name='actv3')(self.batc3)\n",
    "        self.drop3 = SpatialDropout3D(0.5)(self.actv3)\n",
    "        self.maxp3 = MaxPooling3D(pool_size=(1, 2, 2), strides=(1, 2, 2), name='max3')(self.drop3)\n",
    "\n",
    "\n",
    "        self.resh1 = TimeDistributed(Flatten())(self.maxp3)\n",
    "\n",
    "\n",
    "        self.gru_1 = Bidirectional(GRU(256, return_sequences=True, kernel_initializer='Orthogonal', name='gru1'), merge_mode='concat')(self.resh1)\n",
    "        self.gru_2 = Bidirectional(GRU(256, return_sequences=True, kernel_initializer='Orthogonal', name='gru2'), merge_mode='concat')(self.gru_1)\n",
    "\n",
    "        # transforms RNN output to character activations:\n",
    "        self.dense1 = Dense(self.output_size, kernel_initializer='he_normal', name='dense1')(self.gru_2)\n",
    "\n",
    "        self.y_pred = Activation('softmax', name='softmax')(self.dense1)\n",
    "        \n",
    "        ####\n",
    "        # y_true: (samples, max_string_length) : containing the truth labels\n",
    "        # y_pred: (samples, time_steps, num_categories) : containing the prediction, or output of the softmax\n",
    "        # input_length: (samples, 1): containing the sequence length for each batch item in y_pred\n",
    "        # label_length: (samples, 1): containing the sequence length for each batch item in y_true\n",
    "        ####\n",
    "        self.labels = Input(name='the_labels', shape=[13], dtype='float32')\n",
    "        self.input_length = Input(name='input_length', shape=[1], dtype='int64')\n",
    "        self.label_length = Input(name='label_length', shape=[1], dtype='int64')\n",
    "\n",
    "        self.loss_out = CTC('ctc', [self.y_pred, self.labels, self.input_length, self.label_length])\n",
    "\n",
    "        self.model = Model(inputs=[self.input_data, self.labels, self.input_length, self.label_length], outputs=self.loss_out)\n",
    "        \n",
    "    def summary(self):\n",
    "        Model(inputs = self.input_data, outputs = self.y_pred).summary()\n",
    "        \n",
    "    def predict(self, input_batch):\n",
    "        return self.test_function([input_batch, 0])[0]  # the first 0 indicates test\n",
    "    \n",
    "    @property\n",
    "    def test_function(self):\n",
    "        # captures output of softmax so we can decode the output during visualization\n",
    "        return K.function([self.input_data, K.learning_phase()], [self.y_pred, K.learning_phase()])"
   ]
  },
  {
   "cell_type": "code",
   "execution_count": 10,
   "id": "f5973a78",
   "metadata": {},
   "outputs": [],
   "source": [
    "import keras\n",
    "epochs = 100\n",
    "early_stopping_patience = 10\n",
    "# Add early stopping\n",
    "early_stopping = keras.callbacks.EarlyStopping(monitor=\"val_loss\", patience=early_stopping_patience, restore_best_weights=True)"
   ]
  },
  {
   "cell_type": "code",
   "execution_count": 11,
   "id": "e5d3fff8",
   "metadata": {},
   "outputs": [
    {
     "name": "stdout",
     "output_type": "stream",
     "text": [
      "Model: \"model_1\"\n",
      "_________________________________________________________________\n",
      " Layer (type)                Output Shape              Param #   \n",
      "=================================================================\n",
      " the_input (InputLayer)      [(None, 5, 100, 200, 3)]  0         \n",
      "                                                                 \n",
      " zero1 (ZeroPadding3D)       (None, 7, 104, 204, 3)    0         \n",
      "                                                                 \n",
      " conv1 (Conv3D)              (None, 5, 50, 100, 32)    7232      \n",
      "                                                                 \n",
      " batc1 (BatchNormalization)  (None, 5, 50, 100, 32)    128       \n",
      "                                                                 \n",
      " actv1 (Activation)          (None, 5, 50, 100, 32)    0         \n",
      "                                                                 \n",
      " spatial_dropout3d (SpatialD  (None, 5, 50, 100, 32)   0         \n",
      " ropout3D)                                                       \n",
      "                                                                 \n",
      " max1 (MaxPooling3D)         (None, 5, 25, 50, 32)     0         \n",
      "                                                                 \n",
      " zero2 (ZeroPadding3D)       (None, 7, 29, 54, 32)     0         \n",
      "                                                                 \n",
      " conv2 (Conv3D)              (None, 5, 25, 50, 64)     153664    \n",
      "                                                                 \n",
      " batc2 (BatchNormalization)  (None, 5, 25, 50, 64)     256       \n",
      "                                                                 \n",
      " actv2 (Activation)          (None, 5, 25, 50, 64)     0         \n",
      "                                                                 \n",
      " spatial_dropout3d_1 (Spatia  (None, 5, 25, 50, 64)    0         \n",
      " lDropout3D)                                                     \n",
      "                                                                 \n",
      " max2 (MaxPooling3D)         (None, 5, 12, 25, 64)     0         \n",
      "                                                                 \n",
      " zero3 (ZeroPadding3D)       (None, 7, 14, 27, 64)     0         \n",
      "                                                                 \n",
      " conv3 (Conv3D)              (None, 5, 12, 25, 96)     165984    \n",
      "                                                                 \n",
      " batc3 (BatchNormalization)  (None, 5, 12, 25, 96)     384       \n",
      "                                                                 \n",
      " actv3 (Activation)          (None, 5, 12, 25, 96)     0         \n",
      "                                                                 \n",
      " spatial_dropout3d_2 (Spatia  (None, 5, 12, 25, 96)    0         \n",
      " lDropout3D)                                                     \n",
      "                                                                 \n",
      " max3 (MaxPooling3D)         (None, 5, 6, 12, 96)      0         \n",
      "                                                                 \n",
      " time_distributed_1 (TimeDis  (None, 5, 6912)          0         \n",
      " tributed)                                                       \n",
      "                                                                 \n",
      " bidirectional_2 (Bidirectio  (None, 5, 512)           11013120  \n",
      " nal)                                                            \n",
      "                                                                 \n",
      " bidirectional_3 (Bidirectio  (None, 5, 512)           1182720   \n",
      " nal)                                                            \n",
      "                                                                 \n",
      " dense1 (Dense)              (None, 5, 13)             6669      \n",
      "                                                                 \n",
      " softmax (Activation)        (None, 5, 13)             0         \n",
      "                                                                 \n",
      "=================================================================\n",
      "Total params: 12,530,157\n",
      "Trainable params: 12,529,773\n",
      "Non-trainable params: 384\n",
      "_________________________________________________________________\n"
     ]
    },
    {
     "name": "stderr",
     "output_type": "stream",
     "text": [
      "C:\\Users\\MSI\\anaconda3\\lib\\site-packages\\keras\\optimizers\\optimizer_v2\\adam.py:110: UserWarning: The `lr` argument is deprecated, use `learning_rate` instead.\n",
      "  super(Adam, self).__init__(name, **kwargs)\n"
     ]
    }
   ],
   "source": [
    "lipnet = LipNet(img_c=3, img_w=100, img_h=200, frames_n=5, output_size=13)\n",
    "lipnet.summary()\n",
    "adam = tf.keras.optimizers.Adam(lr=0.0001, beta_1=0.9, beta_2=0.999, epsilon=1e-08)\n",
    "lipnet.model.compile(loss={'ctc': lambda y_true, y_pred: y_pred}, optimizer=adam, metrics=['accuracy']) "
   ]
  },
  {
   "cell_type": "code",
   "execution_count": 12,
   "id": "38ab1e58",
   "metadata": {},
   "outputs": [],
   "source": [
    "from sklearn.model_selection import train_test_split\n",
    "X_train, X_test, y_train, y_test = train_test_split(x_data, y_data, test_size = 0.2, random_state = 1)\n",
    "# print(y_train)\n",
    "X_train, X_val, y_train, y_val = train_test_split(X_train, y_train, test_size = 0.2, random_state = 1)"
   ]
  },
  {
   "cell_type": "code",
   "execution_count": 13,
   "id": "b1a8e885",
   "metadata": {},
   "outputs": [],
   "source": [
    "from keras.callbacks import ModelCheckpoint\n",
    "checkpoint  = ModelCheckpoint('ModelCheckpoint/',monitor='val_loss', save_weights_only=True, mode='auto')"
   ]
  },
  {
   "cell_type": "code",
   "execution_count": 14,
   "id": "7d10843d",
   "metadata": {},
   "outputs": [
    {
     "name": "stdout",
     "output_type": "stream",
     "text": [
      "(345, 5, 100, 200, 3) (345, 13)\n"
     ]
    }
   ],
   "source": [
    "#input_length= [[5] for _ in range(총 갯수)]\n",
    "print(X_train.shape, y_train.shape)\n",
    "input_length_X = [[5] for _ in range(X_train.shape[0])]\n",
    "label_length_X = [[1] for _ in range(X_train.shape[0])]\n",
    "input_length_v = [[5] for _ in range(X_val.shape[0])]\n",
    "label_length_v = [[1] for _ in range(X_val.shape[0])]"
   ]
  },
  {
   "cell_type": "code",
   "execution_count": 15,
   "id": "6f44cb1b",
   "metadata": {
    "scrolled": true
   },
   "outputs": [
    {
     "name": "stdout",
     "output_type": "stream",
     "text": [
      "(345, 1)\n"
     ]
    }
   ],
   "source": [
    "X_train = np.array(X_train,dtype='float64')\n",
    "y_train = np.array(y_train, dtype ='float64')\n",
    "X_val = np.array(X_val,dtype='float64')\n",
    "y_val = np.array(y_val, dtype ='float64')\n",
    "# print(X_train.shape)\n",
    "# print(y_train.shape)\n",
    "# print(X_val.shape)\n",
    "# print(y_val.shape)\n",
    "input_length_X = np.array(input_length_X,dtype='float64')\n",
    "label_length_X = np.array(label_length_X, dtype ='float64')\n",
    "input_length_v = np.array(input_length_v,dtype='float64')\n",
    "label_length_v = np.array(label_length_v, dtype ='float64')\n",
    "print(input_length_X.shape)\n",
    "# print(label_length_X.shape)\n",
    "# print(input_length_v.shape)\n",
    "# print(label_length_v.shape)"
   ]
  },
  {
   "cell_type": "code",
   "execution_count": 16,
   "id": "5e9e8555",
   "metadata": {},
   "outputs": [],
   "source": [
    "# print(X_train, y_train, input_length_X, label_length_X)"
   ]
  },
  {
   "cell_type": "code",
   "execution_count": 17,
   "id": "d5541b40",
   "metadata": {},
   "outputs": [
    {
     "name": "stdout",
     "output_type": "stream",
     "text": [
      "Epoch 1/100\n",
      "44/44 [==============================] - 98s 2s/step - loss: 1.5501 - accuracy: 0.1382 - val_loss: 0.9822 - val_accuracy: 0.8064\n",
      "Epoch 2/100\n",
      "44/44 [==============================] - 91s 2s/step - loss: 0.5247 - accuracy: 0.6852 - val_loss: 0.9652 - val_accuracy: 0.8064\n",
      "Epoch 3/100\n",
      "44/44 [==============================] - 87s 2s/step - loss: 0.3141 - accuracy: 0.7882 - val_loss: 0.2868 - val_accuracy: 0.8064\n",
      "Epoch 4/100\n",
      "44/44 [==============================] - 113s 3s/step - loss: 0.2946 - accuracy: 0.7955 - val_loss: 0.1631 - val_accuracy: 0.8161\n",
      "Epoch 5/100\n",
      "44/44 [==============================] - 100s 2s/step - loss: 0.2128 - accuracy: 0.8201 - val_loss: 0.1520 - val_accuracy: 0.8161\n",
      "Epoch 6/100\n",
      "44/44 [==============================] - 93s 2s/step - loss: 0.2563 - accuracy: 0.8029 - val_loss: 0.3180 - val_accuracy: 0.8161\n",
      "Epoch 7/100\n",
      "44/44 [==============================] - 93s 2s/step - loss: 0.2012 - accuracy: 0.8372 - val_loss: 0.1315 - val_accuracy: 0.8258\n",
      "Epoch 8/100\n",
      "44/44 [==============================] - 93s 2s/step - loss: 0.1896 - accuracy: 0.8225 - val_loss: 0.2249 - val_accuracy: 0.8161\n",
      "Epoch 9/100\n",
      "44/44 [==============================] - 92s 2s/step - loss: 0.1683 - accuracy: 0.8348 - val_loss: 0.2052 - val_accuracy: 0.8161\n",
      "Epoch 10/100\n",
      "44/44 [==============================] - 92s 2s/step - loss: 0.1659 - accuracy: 0.8372 - val_loss: 0.2553 - val_accuracy: 0.8161\n",
      "Epoch 11/100\n",
      "44/44 [==============================] - 92s 2s/step - loss: 0.1769 - accuracy: 0.8299 - val_loss: 0.1713 - val_accuracy: 0.8258\n",
      "Epoch 12/100\n",
      "44/44 [==============================] - 87s 2s/step - loss: 0.1313 - accuracy: 0.8520 - val_loss: 0.2313 - val_accuracy: 0.8161\n",
      "Epoch 13/100\n",
      "44/44 [==============================] - 87s 2s/step - loss: 0.1342 - accuracy: 0.8544 - val_loss: 0.1427 - val_accuracy: 0.8355\n",
      "Epoch 14/100\n",
      "44/44 [==============================] - 90s 2s/step - loss: 0.1534 - accuracy: 0.8470 - val_loss: 0.1726 - val_accuracy: 0.8355\n",
      "Epoch 15/100\n",
      "44/44 [==============================] - 95s 2s/step - loss: 0.1552 - accuracy: 0.8299 - val_loss: 0.1736 - val_accuracy: 0.8355\n",
      "Epoch 16/100\n",
      "44/44 [==============================] - 94s 2s/step - loss: 0.1469 - accuracy: 0.8495 - val_loss: 0.1142 - val_accuracy: 0.8550\n",
      "Epoch 17/100\n",
      "44/44 [==============================] - 94s 2s/step - loss: 0.1293 - accuracy: 0.8470 - val_loss: 0.1517 - val_accuracy: 0.8453\n",
      "Epoch 18/100\n",
      "44/44 [==============================] - 94s 2s/step - loss: 0.1337 - accuracy: 0.8421 - val_loss: 0.1161 - val_accuracy: 0.8453\n",
      "Epoch 19/100\n",
      "44/44 [==============================] - 94s 2s/step - loss: 0.1383 - accuracy: 0.8470 - val_loss: 0.1191 - val_accuracy: 0.8453\n",
      "Epoch 20/100\n",
      "44/44 [==============================] - 94s 2s/step - loss: 0.1240 - accuracy: 0.8593 - val_loss: 0.1680 - val_accuracy: 0.8550\n",
      "Epoch 21/100\n",
      "44/44 [==============================] - 93s 2s/step - loss: 0.1218 - accuracy: 0.8544 - val_loss: 0.2269 - val_accuracy: 0.8161\n",
      "Epoch 22/100\n",
      "44/44 [==============================] - 87s 2s/step - loss: 0.1311 - accuracy: 0.8618 - val_loss: 0.1072 - val_accuracy: 0.8647\n",
      "Epoch 23/100\n",
      "44/44 [==============================] - 87s 2s/step - loss: 0.1578 - accuracy: 0.8323 - val_loss: 0.1525 - val_accuracy: 0.8258\n",
      "Epoch 24/100\n",
      "44/44 [==============================] - 90s 2s/step - loss: 0.0964 - accuracy: 0.8716 - val_loss: 0.1145 - val_accuracy: 0.8453\n",
      "Epoch 25/100\n",
      "44/44 [==============================] - 92s 2s/step - loss: 0.1191 - accuracy: 0.8569 - val_loss: 0.1914 - val_accuracy: 0.8355\n",
      "Epoch 26/100\n",
      "44/44 [==============================] - 93s 2s/step - loss: 0.1258 - accuracy: 0.8618 - val_loss: 0.1040 - val_accuracy: 0.8744\n",
      "Epoch 27/100\n",
      "44/44 [==============================] - 93s 2s/step - loss: 0.1172 - accuracy: 0.8569 - val_loss: 0.1104 - val_accuracy: 0.8453\n",
      "Epoch 28/100\n",
      "44/44 [==============================] - 93s 2s/step - loss: 0.1358 - accuracy: 0.8520 - val_loss: 0.1093 - val_accuracy: 0.8647\n",
      "Epoch 29/100\n",
      "44/44 [==============================] - 93s 2s/step - loss: 0.0991 - accuracy: 0.8618 - val_loss: 0.1045 - val_accuracy: 0.8647\n",
      "Epoch 30/100\n",
      "44/44 [==============================] - 93s 2s/step - loss: 0.1200 - accuracy: 0.8716 - val_loss: 0.1016 - val_accuracy: 0.8647\n",
      "Epoch 31/100\n",
      "44/44 [==============================] - 93s 2s/step - loss: 0.1388 - accuracy: 0.8495 - val_loss: 0.1041 - val_accuracy: 0.8647\n",
      "Epoch 32/100\n",
      "44/44 [==============================] - 93s 2s/step - loss: 0.0966 - accuracy: 0.8691 - val_loss: 0.1242 - val_accuracy: 0.8550\n",
      "Epoch 33/100\n",
      "44/44 [==============================] - 93s 2s/step - loss: 0.1008 - accuracy: 0.8544 - val_loss: 0.1189 - val_accuracy: 0.8550\n",
      "Epoch 34/100\n",
      "44/44 [==============================] - 93s 2s/step - loss: 0.0910 - accuracy: 0.8887 - val_loss: 0.1048 - val_accuracy: 0.8744\n",
      "Epoch 35/100\n",
      "44/44 [==============================] - 92s 2s/step - loss: 0.1130 - accuracy: 0.8544 - val_loss: 0.1048 - val_accuracy: 0.8744\n",
      "Epoch 36/100\n",
      "44/44 [==============================] - 93s 2s/step - loss: 0.1004 - accuracy: 0.8667 - val_loss: 0.1220 - val_accuracy: 0.8550\n",
      "Epoch 37/100\n",
      "44/44 [==============================] - 93s 2s/step - loss: 0.1094 - accuracy: 0.8593 - val_loss: 0.1069 - val_accuracy: 0.8647\n",
      "Epoch 38/100\n",
      "44/44 [==============================] - 90s 2s/step - loss: 0.1120 - accuracy: 0.8642 - val_loss: 0.1043 - val_accuracy: 0.8744\n",
      "Epoch 39/100\n",
      "44/44 [==============================] - 87s 2s/step - loss: 0.1041 - accuracy: 0.8667 - val_loss: 0.1095 - val_accuracy: 0.8744\n",
      "Epoch 40/100\n",
      "44/44 [==============================] - 87s 2s/step - loss: 0.0971 - accuracy: 0.8667 - val_loss: 0.1113 - val_accuracy: 0.8744\n",
      "Epoch 41/100\n",
      "44/44 [==============================] - 87s 2s/step - loss: 0.1079 - accuracy: 0.8520 - val_loss: 0.1380 - val_accuracy: 0.8550\n",
      "Epoch 42/100\n",
      "44/44 [==============================] - 87s 2s/step - loss: 0.1096 - accuracy: 0.8716 - val_loss: 0.1086 - val_accuracy: 0.8744\n",
      "Epoch 43/100\n",
      "44/44 [==============================] - 87s 2s/step - loss: 0.1000 - accuracy: 0.8667 - val_loss: 0.1165 - val_accuracy: 0.8453\n",
      "Epoch 44/100\n",
      "44/44 [==============================] - 87s 2s/step - loss: 0.0982 - accuracy: 0.8569 - val_loss: 0.1056 - val_accuracy: 0.8744\n",
      "Epoch 45/100\n",
      "44/44 [==============================] - 87s 2s/step - loss: 0.1012 - accuracy: 0.8691 - val_loss: 0.1055 - val_accuracy: 0.8744\n",
      "Epoch 46/100\n",
      "44/44 [==============================] - 87s 2s/step - loss: 0.1122 - accuracy: 0.8667 - val_loss: 0.1153 - val_accuracy: 0.8744\n",
      "Epoch 47/100\n",
      "44/44 [==============================] - 87s 2s/step - loss: 0.1077 - accuracy: 0.8593 - val_loss: 0.1311 - val_accuracy: 0.8453\n",
      "Epoch 48/100\n",
      "44/44 [==============================] - 87s 2s/step - loss: 0.1133 - accuracy: 0.8642 - val_loss: 0.1124 - val_accuracy: 0.8744\n",
      "Epoch 49/100\n",
      "44/44 [==============================] - 87s 2s/step - loss: 0.1042 - accuracy: 0.8667 - val_loss: 0.1333 - val_accuracy: 0.8453\n",
      "Epoch 50/100\n",
      "44/44 [==============================] - 87s 2s/step - loss: 0.0943 - accuracy: 0.8618 - val_loss: 0.1147 - val_accuracy: 0.8744\n",
      "Epoch 51/100\n",
      "44/44 [==============================] - 87s 2s/step - loss: 0.0910 - accuracy: 0.8789 - val_loss: 0.1366 - val_accuracy: 0.8550\n",
      "Epoch 52/100\n",
      "44/44 [==============================] - 87s 2s/step - loss: 0.1017 - accuracy: 0.8691 - val_loss: 0.1092 - val_accuracy: 0.8647\n",
      "Epoch 53/100\n",
      "44/44 [==============================] - 87s 2s/step - loss: 0.0782 - accuracy: 0.8716 - val_loss: 0.1569 - val_accuracy: 0.8355\n",
      "Epoch 54/100\n",
      "44/44 [==============================] - 87s 2s/step - loss: 0.0833 - accuracy: 0.8691 - val_loss: 0.1198 - val_accuracy: 0.8744\n",
      "Epoch 55/100\n",
      "44/44 [==============================] - 87s 2s/step - loss: 0.0902 - accuracy: 0.8765 - val_loss: 0.1076 - val_accuracy: 0.8744\n",
      "Epoch 56/100\n",
      "44/44 [==============================] - 87s 2s/step - loss: 0.0893 - accuracy: 0.8691 - val_loss: 0.1084 - val_accuracy: 0.8744\n",
      "Epoch 57/100\n",
      "44/44 [==============================] - 87s 2s/step - loss: 0.0881 - accuracy: 0.8691 - val_loss: 0.1067 - val_accuracy: 0.8744\n",
      "Epoch 58/100\n",
      "44/44 [==============================] - 87s 2s/step - loss: 0.1055 - accuracy: 0.8667 - val_loss: 0.1098 - val_accuracy: 0.8744\n"
     ]
    },
    {
     "name": "stdout",
     "output_type": "stream",
     "text": [
      "Epoch 59/100\n",
      "44/44 [==============================] - 87s 2s/step - loss: 0.0781 - accuracy: 0.8765 - val_loss: 0.1209 - val_accuracy: 0.8647\n",
      "Epoch 60/100\n",
      "44/44 [==============================] - 87s 2s/step - loss: 0.0874 - accuracy: 0.8593 - val_loss: 0.1095 - val_accuracy: 0.8744\n",
      "Epoch 61/100\n",
      "44/44 [==============================] - 89s 2s/step - loss: 0.0843 - accuracy: 0.8740 - val_loss: 0.1138 - val_accuracy: 0.8744\n",
      "Epoch 62/100\n",
      "44/44 [==============================] - 87s 2s/step - loss: 0.0872 - accuracy: 0.8740 - val_loss: 0.1122 - val_accuracy: 0.8744\n",
      "Epoch 63/100\n",
      "44/44 [==============================] - 87s 2s/step - loss: 0.1064 - accuracy: 0.8618 - val_loss: 0.1273 - val_accuracy: 0.8647\n",
      "Epoch 64/100\n",
      "44/44 [==============================] - 87s 2s/step - loss: 0.0943 - accuracy: 0.8642 - val_loss: 0.1059 - val_accuracy: 0.8744\n",
      "Epoch 65/100\n",
      "44/44 [==============================] - 87s 2s/step - loss: 0.0829 - accuracy: 0.8740 - val_loss: 0.1174 - val_accuracy: 0.8744\n",
      "Epoch 66/100\n",
      "44/44 [==============================] - 87s 2s/step - loss: 0.1002 - accuracy: 0.8642 - val_loss: 0.1006 - val_accuracy: 0.8744\n",
      "Epoch 67/100\n",
      "44/44 [==============================] - 87s 2s/step - loss: 0.0931 - accuracy: 0.8667 - val_loss: 0.1021 - val_accuracy: 0.8744\n",
      "Epoch 68/100\n",
      "44/44 [==============================] - 88s 2s/step - loss: 0.0733 - accuracy: 0.8765 - val_loss: 0.1015 - val_accuracy: 0.8744\n",
      "Epoch 69/100\n",
      "44/44 [==============================] - 87s 2s/step - loss: 0.0722 - accuracy: 0.8838 - val_loss: 0.1083 - val_accuracy: 0.8744\n",
      "Epoch 70/100\n",
      "44/44 [==============================] - 87s 2s/step - loss: 0.1080 - accuracy: 0.8691 - val_loss: 0.1090 - val_accuracy: 0.8744\n",
      "Epoch 71/100\n",
      "44/44 [==============================] - 87s 2s/step - loss: 0.0910 - accuracy: 0.8667 - val_loss: 0.1019 - val_accuracy: 0.8744\n",
      "Epoch 72/100\n",
      "44/44 [==============================] - 87s 2s/step - loss: 0.0831 - accuracy: 0.8716 - val_loss: 0.1057 - val_accuracy: 0.8744\n",
      "Epoch 73/100\n",
      "44/44 [==============================] - 87s 2s/step - loss: 0.0860 - accuracy: 0.8618 - val_loss: 0.1105 - val_accuracy: 0.8744\n",
      "Epoch 74/100\n",
      "44/44 [==============================] - 87s 2s/step - loss: 0.1069 - accuracy: 0.8618 - val_loss: 0.1096 - val_accuracy: 0.8647\n",
      "Epoch 75/100\n",
      "44/44 [==============================] - 87s 2s/step - loss: 0.0924 - accuracy: 0.8814 - val_loss: 0.1061 - val_accuracy: 0.8744\n",
      "Epoch 76/100\n",
      "44/44 [==============================] - 87s 2s/step - loss: 0.1104 - accuracy: 0.8691 - val_loss: 0.1243 - val_accuracy: 0.8453\n",
      "Epoch 77/100\n",
      "44/44 [==============================] - 87s 2s/step - loss: 0.0810 - accuracy: 0.8716 - val_loss: 0.1009 - val_accuracy: 0.8744\n",
      "Epoch 78/100\n",
      "44/44 [==============================] - 87s 2s/step - loss: 0.0758 - accuracy: 0.8814 - val_loss: 0.0933 - val_accuracy: 0.8744\n",
      "Epoch 79/100\n",
      "44/44 [==============================] - 87s 2s/step - loss: 0.0781 - accuracy: 0.8716 - val_loss: 0.0977 - val_accuracy: 0.8744\n",
      "Epoch 80/100\n",
      "44/44 [==============================] - 87s 2s/step - loss: 0.0761 - accuracy: 0.8765 - val_loss: 0.0947 - val_accuracy: 0.8842\n",
      "Epoch 81/100\n",
      "44/44 [==============================] - 87s 2s/step - loss: 0.0685 - accuracy: 0.8814 - val_loss: 0.1114 - val_accuracy: 0.8842\n",
      "Epoch 82/100\n",
      "44/44 [==============================] - 87s 2s/step - loss: 0.0818 - accuracy: 0.8667 - val_loss: 0.1072 - val_accuracy: 0.8744\n",
      "Epoch 83/100\n",
      "44/44 [==============================] - 87s 2s/step - loss: 0.0863 - accuracy: 0.8691 - val_loss: 0.0996 - val_accuracy: 0.8744\n",
      "Epoch 84/100\n",
      "44/44 [==============================] - 87s 2s/step - loss: 0.0686 - accuracy: 0.8789 - val_loss: 0.1221 - val_accuracy: 0.8939\n",
      "Epoch 85/100\n",
      "44/44 [==============================] - 87s 2s/step - loss: 0.0774 - accuracy: 0.8716 - val_loss: 0.1010 - val_accuracy: 0.8939\n",
      "Epoch 86/100\n",
      "44/44 [==============================] - 87s 2s/step - loss: 0.0718 - accuracy: 0.8740 - val_loss: 0.1004 - val_accuracy: 0.8842\n",
      "Epoch 87/100\n",
      "44/44 [==============================] - 87s 2s/step - loss: 0.0817 - accuracy: 0.8765 - val_loss: 0.1345 - val_accuracy: 0.8744\n",
      "Epoch 88/100\n",
      "44/44 [==============================] - 87s 2s/step - loss: 0.0880 - accuracy: 0.8740 - val_loss: 0.1209 - val_accuracy: 0.8842\n",
      "Epoch 89/100\n",
      "44/44 [==============================] - 87s 2s/step - loss: 0.0764 - accuracy: 0.8789 - val_loss: 0.1067 - val_accuracy: 0.8744\n",
      "Epoch 90/100\n",
      "44/44 [==============================] - 87s 2s/step - loss: 0.0955 - accuracy: 0.8740 - val_loss: 0.1050 - val_accuracy: 0.8744\n",
      "Epoch 91/100\n",
      "44/44 [==============================] - 87s 2s/step - loss: 0.0893 - accuracy: 0.8716 - val_loss: 0.1023 - val_accuracy: 0.8744\n",
      "Epoch 92/100\n",
      "44/44 [==============================] - 87s 2s/step - loss: 0.0801 - accuracy: 0.8765 - val_loss: 0.1003 - val_accuracy: 0.8744\n",
      "Epoch 93/100\n",
      "44/44 [==============================] - 87s 2s/step - loss: 0.0805 - accuracy: 0.8765 - val_loss: 0.1726 - val_accuracy: 0.8355\n",
      "Epoch 94/100\n",
      "44/44 [==============================] - 87s 2s/step - loss: 0.0810 - accuracy: 0.8765 - val_loss: 0.1031 - val_accuracy: 0.8744\n",
      "Epoch 95/100\n",
      "44/44 [==============================] - 87s 2s/step - loss: 0.0696 - accuracy: 0.8814 - val_loss: 0.1067 - val_accuracy: 0.8744\n",
      "Epoch 96/100\n",
      "44/44 [==============================] - 87s 2s/step - loss: 0.0600 - accuracy: 0.8863 - val_loss: 0.1155 - val_accuracy: 0.8842\n",
      "Epoch 97/100\n",
      "44/44 [==============================] - 87s 2s/step - loss: 0.0621 - accuracy: 0.8863 - val_loss: 0.1143 - val_accuracy: 0.8744\n",
      "Epoch 98/100\n",
      "44/44 [==============================] - 88s 2s/step - loss: 0.0779 - accuracy: 0.8814 - val_loss: 0.1072 - val_accuracy: 0.8744\n",
      "Epoch 99/100\n",
      "44/44 [==============================] - 87s 2s/step - loss: 0.0751 - accuracy: 0.8789 - val_loss: 0.1015 - val_accuracy: 0.8744\n",
      "Epoch 100/100\n",
      "44/44 [==============================] - 87s 2s/step - loss: 0.0692 - accuracy: 0.8887 - val_loss: 0.1100 - val_accuracy: 0.8842\n"
     ]
    }
   ],
   "source": [
    "history = lipnet.model.fit(x=[X_train, y_train, input_length_X, label_length_X], \n",
    "                           y=y_train,\n",
    "                           validation_data=([X_val, y_val, input_length_v, label_length_v], y_val), \n",
    "                           batch_size=8, epochs=100, verbose=1, callbacks=[checkpoint], initial_epoch=0)\n"
   ]
  },
  {
   "cell_type": "code",
   "execution_count": 18,
   "id": "e67d6484",
   "metadata": {},
   "outputs": [],
   "source": [
    "def plot_loss(history):\n",
    "    plt.plot(history.history['loss'])\n",
    "    plt.plot(history.history['val_loss'])\n",
    "    plt.title('Model Loss')\n",
    "    plt.ylabel('Loss')\n",
    "    plt.xlabel('Epoch')\n",
    "    plt.legend(['Train', 'Test'], loc=0)\n",
    "\n",
    "def plot_acc(history):\n",
    "    plt.plot(history.history['accuracy'])\n",
    "    plt.plot(history.history['val_accuracy'])\n",
    "    plt.title('Model accuracy')\n",
    "    plt.ylabel('Accuracy')\n",
    "    plt.xlabel('Epoch')\n",
    "    plt.legend(['Train', 'Test'], loc=0)"
   ]
  },
  {
   "cell_type": "code",
   "execution_count": 19,
   "id": "57d7bd0f",
   "metadata": {},
   "outputs": [],
   "source": [
    "# result = Decoder.decode(y_pred, input_length)[0]"
   ]
  },
  {
   "cell_type": "code",
   "execution_count": 20,
   "id": "dc7147d6",
   "metadata": {},
   "outputs": [],
   "source": [
    "import matplotlib.pyplot as plt"
   ]
  },
  {
   "cell_type": "code",
   "execution_count": 22,
   "id": "d79c8f00",
   "metadata": {},
   "outputs": [
    {
     "data": {
      "image/png": "[encoded data removed]",
      "text/plain": [
       "<Figure size 640x480 with 1 Axes>"
      ]
     },
     "metadata": {},
     "output_type": "display_data"
    }
   ],
   "source": [
    "plot_loss(history)"
   ]
  },
  {
   "cell_type": "code",
   "execution_count": 23,
   "id": "528124e8",
   "metadata": {},
   "outputs": [
    {
     "data": {
      "image/png": "[encoded data removed]",
      "text/plain": [
       "<Figure size 640x480 with 1 Axes>"
      ]
     },
     "metadata": {},
     "output_type": "display_data"
    }
   ],
   "source": [
    "plot_acc(history)"
   ]
  },
  {
   "cell_type": "code",
   "execution_count": 26,
   "id": "f40cd30b",
   "metadata": {},
   "outputs": [],
   "source": [
    "lipnet.model.save('model.h5')"
   ]
  },
  {
   "cell_type": "code",
   "execution_count": null,
   "id": "93eeb7f3",
   "metadata": {},
   "outputs": [],
   "source": []
  }
 ],
 "metadata": {
  "kernelspec": {
   "display_name": "Python 3 (ipykernel)",
   "language": "python",
   "name": "python3"
  },
  "language_info": {
   "codemirror_mode": {
    "name": "ipython",
    "version": 3
   },
   "file_extension": ".py",
   "mimetype": "text/x-python",
   "name": "python",
   "nbconvert_exporter": "python",
   "pygments_lexer": "ipython3",
   "version": "3.9.16"
  }
 },
 "nbformat": 4,
 "nbformat_minor": 5
}
